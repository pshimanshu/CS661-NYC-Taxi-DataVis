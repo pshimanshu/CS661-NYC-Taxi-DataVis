{
 "cells": [
  {
   "cell_type": "code",
   "execution_count": 1,
   "id": "aae887ab",
   "metadata": {},
   "outputs": [],
   "source": [
    "import vaex\n",
    "import numpy as np\n",
    "import pandas as pd\n",
    "from tqdm.notebook import tqdm\n",
    "import json\n",
    "import collections\n",
    "\n",
    "import numpy as np\n",
    "import pylab as plt\n",
    "import seaborn as sns\n",
    "\n",
    "import warnings\n",
    "warnings.filterwarnings(\"ignore\")"
   ]
  },
  {
   "cell_type": "code",
   "execution_count": null,
   "id": "f75a818e",
   "metadata": {},
   "outputs": [],
   "source": []
  },
  {
   "cell_type": "code",
   "execution_count": null,
   "id": "4df0ec58",
   "metadata": {},
   "outputs": [],
   "source": []
  },
  {
   "cell_type": "code",
   "execution_count": 2,
   "id": "ddf30f41",
   "metadata": {},
   "outputs": [],
   "source": [
    "df = vaex.open('yellow_tripdata_2010_filtered.hdf5', progress=True)"
   ]
  },
  {
   "cell_type": "code",
   "execution_count": 3,
   "id": "5bc92bc5",
   "metadata": {},
   "outputs": [],
   "source": [
    "geo_filename = './aux_data/taxi_zones-tiny.json'\n",
    "with open(geo_filename) as f:\n",
    "    geo_json = json.load(f)\n",
    "\n",
    "features = geo_json['features']\n",
    "borough_polygons = collections.defaultdict(list)\n",
    "zone_polygons = collections.defaultdict(list)\n",
    "zbmapper = {}\n",
    "list_of_polygons = []\n",
    "\n",
    "for i, feature in enumerate(features[:]):\n",
    "    properties = feature['properties']\n",
    "    geo = feature['geometry']\n",
    "\n",
    "    polygons = []\n",
    "    for polygon in geo['coordinates']:\n",
    "        polygon = np.array(polygon)\n",
    "        if polygon.ndim == 3:\n",
    "            polygon = polygon[0]\n",
    "        polygon = polygon.T\n",
    "        assert polygon.shape[0] == 2\n",
    "        assert polygon.ndim == 2\n",
    "        polygons.append(polygon)\n",
    "\n",
    "    borough_polygons[properties['borough']].extend(polygons)\n",
    "    zone_polygons[properties['zone']].extend(polygons)\n",
    "    zbmapper[properties['zone']] = properties['borough']\n",
    "    \n",
    "keys = list(borough_polygons.keys())\n",
    "bmapper = {i:keys[i] for i in range(len(keys))}\n",
    "keys = list(zone_polygons.keys())\n",
    "zmapper = {i:keys[i] for i in range(len(keys))}\n",
    "\n",
    "with open('./aux_data/zone.json', 'w') as f:\n",
    "    json.dump(zmapper, f)\n",
    "with open('./aux_data/borough.json', 'w') as f:\n",
    "    json.dump(bmapper, f)\n",
    "with open('./aux_data/zone_to_borough.json', 'w') as f:\n",
    "    json.dump(zbmapper, f)"
   ]
  },
  {
   "cell_type": "code",
   "execution_count": null,
   "id": "529b013e",
   "metadata": {},
   "outputs": [],
   "source": []
  },
  {
   "cell_type": "code",
   "execution_count": 4,
   "id": "54c65b61",
   "metadata": {},
   "outputs": [
    {
     "data": {
      "text/html": [
       "<table>\n",
       "<thead>\n",
       "<tr><th>#                                      </th><th>vendor_id  </th><th>pickup_datetime              </th><th>dropoff_datetime             </th><th>passenger_count  </th><th>trip_distance  </th><th>pickup_longitude  </th><th>pickup_latitude  </th><th>rate_code  </th><th>store_and_fwd_flag  </th><th>dropoff_longitude  </th><th>dropoff_latitude  </th><th>payment_type  </th><th>fare_amount  </th><th>surcharge  </th><th>mta_tax  </th><th>tip_amount  </th><th>tolls_amount  </th><th>total_amount  </th><th>trip_duration_min  </th><th>trip_speed_mph    </th><th>dropoff_borough  </th><th>dropoff_zone  </th><th>pickup_borough  </th><th>pickup_zone  </th></tr>\n",
       "</thead>\n",
       "<tbody>\n",
       "<tr><td><i style='opacity: 0.6'>0</i>          </td><td>VTS        </td><td>2010-01-26 07:41:00.000000000</td><td>2010-01-26 07:45:00.000000000</td><td>1                </td><td>0.75           </td><td>-73.956778        </td><td>40.76775         </td><td>1          </td><td>--                  </td><td>-73.965957         </td><td>40.765232         </td><td>CASH          </td><td>4.5          </td><td>0.0        </td><td>0.5      </td><td>0.0         </td><td>0.0           </td><td>5.0           </td><td>4.0                </td><td>11.25             </td><td>4                </td><td>75            </td><td>4               </td><td>115          </td></tr>\n",
       "<tr><td><i style='opacity: 0.6'>1</i>          </td><td>DDS        </td><td>2010-01-30 23:31:00.000000000</td><td>2010-01-30 23:46:12.000000000</td><td>1                </td><td>5.9            </td><td>-73.99611799999998</td><td>40.763932        </td><td>1          </td><td>--                  </td><td>-73.98151199999998 </td><td>40.741193         </td><td>CASH          </td><td>15.3         </td><td>0.5        </td><td>0.5      </td><td>0.0         </td><td>0.0           </td><td>16.3          </td><td>15.2               </td><td>23.289473684210527</td><td>4                </td><td>160           </td><td>4               </td><td>140          </td></tr>\n",
       "<tr><td><i style='opacity: 0.6'>2</i>          </td><td>DDS        </td><td>2010-01-18 20:22:20.000000000</td><td>2010-01-18 20:38:12.000000000</td><td>1                </td><td>4.0            </td><td>-73.979673        </td><td>40.78379         </td><td>1          </td><td>--                  </td><td>-73.91785199999998 </td><td>40.87856          </td><td>CASH          </td><td>11.7         </td><td>0.5        </td><td>0.5      </td><td>0.0         </td><td>0.0           </td><td>12.7          </td><td>15.866666666666667 </td><td>15.126050420168069</td><td>3                </td><td>241           </td><td>4               </td><td>212          </td></tr>\n",
       "<tr><td>...                                    </td><td>...        </td><td>...                          </td><td>...                          </td><td>...              </td><td>...            </td><td>...               </td><td>...              </td><td>...        </td><td>...                 </td><td>...                </td><td>...               </td><td>...           </td><td>...          </td><td>...        </td><td>...      </td><td>...         </td><td>...           </td><td>...           </td><td>...                </td><td>...               </td><td>...              </td><td>...           </td><td>...             </td><td>...          </td></tr>\n",
       "<tr><td><i style='opacity: 0.6'>163,170,054</i></td><td>CMT        </td><td>2010-12-02 00:44:45.000000000</td><td>2010-12-02 00:54:41.000000000</td><td>1                </td><td>2.6            </td><td>-73.99100199999998</td><td>40.740599        </td><td>1          </td><td>N                   </td><td>-73.998046         </td><td>40.74686          </td><td>CRED          </td><td>8.9          </td><td>0.5        </td><td>0.5      </td><td>1.48        </td><td>0.0           </td><td>11.38         </td><td>9.933333333333334  </td><td>15.70469798657718 </td><td>4                </td><td>150           </td><td>4               </td><td>217          </td></tr>\n",
       "<tr><td><i style='opacity: 0.6'>163,170,055</i></td><td>CMT        </td><td>2010-12-02 00:17:46.000000000</td><td>2010-12-02 00:23:37.000000000</td><td>1                </td><td>1.6            </td><td>-74.005401        </td><td>40.744262        </td><td>1          </td><td>N                   </td><td>-73.987623         </td><td>40.760235         </td><td>CRED          </td><td>6.5          </td><td>0.5        </td><td>0.5      </td><td>1.0         </td><td>0.0           </td><td>8.5           </td><td>5.85               </td><td>16.410256410256412</td><td>4                </td><td>139           </td><td>4               </td><td>150          </td></tr>\n",
       "</tbody>\n",
       "</table>"
      ],
      "text/plain": [
       "<IPython.core.display.HTML object>"
      ]
     },
     "metadata": {},
     "output_type": "display_data"
    }
   ],
   "source": [
    "# Add the borough and zone ids to the pickup and dropoff locations as virtual columns\n",
    "\n",
    "df['dropoff_borough'] = df.geo.inside_which_polygons(df.dropoff_longitude, df.dropoff_latitude, borough_polygons.values()).astype('uint8')\n",
    "df['dropoff_zone'] = df.geo.inside_which_polygons(df.dropoff_longitude, df.dropoff_latitude, zone_polygons.values()).astype('uint16')\n",
    "\n",
    "df['pickup_borough'] = df.geo.inside_which_polygons(df.pickup_longitude, df.pickup_latitude, borough_polygons.values()).astype('uint8')\n",
    "df['pickup_zone'] = df.geo.inside_which_polygons(df.pickup_longitude, df.pickup_latitude, zone_polygons.values()).astype('uint16')\n",
    "\n",
    "df.head_and_tail_print()"
   ]
  },
  {
   "cell_type": "code",
   "execution_count": 5,
   "id": "6e304db3",
   "metadata": {},
   "outputs": [
    {
     "data": {
      "text/html": [
       "<table>\n",
       "<thead>\n",
       "<tr><th>#                                      </th><th>vendor_id  </th><th>pickup_datetime              </th><th>dropoff_datetime             </th><th>passenger_count  </th><th>trip_distance     </th><th>pickup_longitude  </th><th>pickup_latitude  </th><th>rate_code  </th><th>store_and_fwd_flag  </th><th>dropoff_longitude  </th><th>dropoff_latitude  </th><th>payment_type  </th><th>fare_amount  </th><th>surcharge  </th><th>mta_tax  </th><th>tip_amount  </th><th>tolls_amount  </th><th>total_amount     </th><th>trip_duration_min  </th><th>trip_speed_mph    </th><th>dropoff_borough  </th><th>dropoff_zone  </th><th>pickup_borough  </th><th>pickup_zone  </th></tr>\n",
       "</thead>\n",
       "<tbody>\n",
       "<tr><td><i style='opacity: 0.6'>0</i>          </td><td>VTS        </td><td>2010-01-26 07:41:00.000000000</td><td>2010-01-26 07:45:00.000000000</td><td>1                </td><td>0.75              </td><td>-73.956778        </td><td>40.76775         </td><td>1          </td><td>--                  </td><td>-73.965957         </td><td>40.765232         </td><td>CASH          </td><td>4.5          </td><td>0.0        </td><td>0.5      </td><td>0.0         </td><td>0.0           </td><td>5.0              </td><td>4.0                </td><td>11.25             </td><td>4                </td><td>75            </td><td>4               </td><td>115          </td></tr>\n",
       "<tr><td><i style='opacity: 0.6'>1</i>          </td><td>DDS        </td><td>2010-01-30 23:31:00.000000000</td><td>2010-01-30 23:46:12.000000000</td><td>1                </td><td>5.9               </td><td>-73.99611799999998</td><td>40.763932        </td><td>1          </td><td>--                  </td><td>-73.98151199999998 </td><td>40.741193         </td><td>CASH          </td><td>15.3         </td><td>0.5        </td><td>0.5      </td><td>0.0         </td><td>0.0           </td><td>16.3             </td><td>15.2               </td><td>23.289473684210527</td><td>4                </td><td>160           </td><td>4               </td><td>140          </td></tr>\n",
       "<tr><td><i style='opacity: 0.6'>2</i>          </td><td>DDS        </td><td>2010-01-18 20:22:20.000000000</td><td>2010-01-18 20:38:12.000000000</td><td>1                </td><td>4.0               </td><td>-73.979673        </td><td>40.78379         </td><td>1          </td><td>--                  </td><td>-73.91785199999998 </td><td>40.87856          </td><td>CASH          </td><td>11.7         </td><td>0.5        </td><td>0.5      </td><td>0.0         </td><td>0.0           </td><td>12.7             </td><td>15.866666666666667 </td><td>15.126050420168069</td><td>3                </td><td>241           </td><td>4               </td><td>212          </td></tr>\n",
       "<tr><td><i style='opacity: 0.6'>3</i>          </td><td>VTS        </td><td>2010-01-09 01:18:00.000000000</td><td>2010-01-09 01:35:00.000000000</td><td>2                </td><td>4.7               </td><td>-73.977922        </td><td>40.763997        </td><td>1          </td><td>--                  </td><td>-73.92390799999998 </td><td>40.759725         </td><td>CASH          </td><td>13.3         </td><td>0.5        </td><td>0.5      </td><td>0.0         </td><td>0.0           </td><td>14.3             </td><td>17.0               </td><td>16.58823529411765 </td><td>0                </td><td>103           </td><td>4               </td><td>117          </td></tr>\n",
       "<tr><td><i style='opacity: 0.6'>4</i>          </td><td>CMT        </td><td>2010-01-18 19:10:14.000000000</td><td>2010-01-18 19:17:07.000000000</td><td>1                </td><td>0.5999999999999999</td><td>-73.990924        </td><td>40.734682        </td><td>1          </td><td>0                   </td><td>-73.99551099999998 </td><td>40.739088         </td><td>CRED          </td><td>5.3          </td><td>0.0        </td><td>0.5      </td><td>0.87        </td><td>0.0           </td><td>6.67             </td><td>6.883333333333334  </td><td>5.230024213075059 </td><td>4                </td><td>217           </td><td>4               </td><td>177          </td></tr>\n",
       "<tr><td>...                                    </td><td>...        </td><td>...                          </td><td>...                          </td><td>...              </td><td>...               </td><td>...               </td><td>...              </td><td>...        </td><td>...                 </td><td>...                </td><td>...               </td><td>...           </td><td>...          </td><td>...        </td><td>...      </td><td>...         </td><td>...           </td><td>...              </td><td>...                </td><td>...               </td><td>...              </td><td>...           </td><td>...             </td><td>...          </td></tr>\n",
       "<tr><td><i style='opacity: 0.6'>163,170,051</i></td><td>VTS        </td><td>2010-12-05 01:56:00.000000000</td><td>2010-12-05 02:02:00.000000000</td><td>2                </td><td>1.3               </td><td>-73.98385         </td><td>40.749142        </td><td>1          </td><td>--                  </td><td>-73.969747         </td><td>40.756967         </td><td>CRED          </td><td>5.7          </td><td>0.5        </td><td>0.5      </td><td>1.0         </td><td>0.0           </td><td>7.7              </td><td>6.0                </td><td>13.0              </td><td>4                </td><td>68            </td><td>4               </td><td>187          </td></tr>\n",
       "<tr><td><i style='opacity: 0.6'>163,170,052</i></td><td>CMT        </td><td>2010-12-02 01:11:19.000000000</td><td>2010-12-02 01:14:53.000000000</td><td>1                </td><td>1.4               </td><td>-73.957606        </td><td>40.717869        </td><td>1          </td><td>N                   </td><td>-73.955151         </td><td>40.735764         </td><td>CRED          </td><td>5.3          </td><td>0.5        </td><td>0.5      </td><td>1.26        </td><td>0.0           </td><td>7.559999999999999</td><td>3.566666666666667  </td><td>23.551401869158877</td><td>2                </td><td>57            </td><td>2               </td><td>248          </td></tr>\n",
       "<tr><td><i style='opacity: 0.6'>163,170,053</i></td><td>CMT        </td><td>2010-12-02 01:07:41.000000000</td><td>2010-12-02 01:39:34.000000000</td><td>2                </td><td>12.1              </td><td>-73.989767        </td><td>40.729652        </td><td>1          </td><td>N                   </td><td>-74.033006         </td><td>40.618895         </td><td>CRED          </td><td>30.9         </td><td>0.5        </td><td>0.5      </td><td>6.38        </td><td>0.0           </td><td>38.28            </td><td>31.883333333333333 </td><td>22.77051751176163 </td><td>2                </td><td>114           </td><td>4               </td><td>44           </td></tr>\n",
       "<tr><td><i style='opacity: 0.6'>163,170,054</i></td><td>CMT        </td><td>2010-12-02 00:44:45.000000000</td><td>2010-12-02 00:54:41.000000000</td><td>1                </td><td>2.6               </td><td>-73.99100199999998</td><td>40.740599        </td><td>1          </td><td>N                   </td><td>-73.998046         </td><td>40.74686          </td><td>CRED          </td><td>8.9          </td><td>0.5        </td><td>0.5      </td><td>1.48        </td><td>0.0           </td><td>11.38            </td><td>9.933333333333334  </td><td>15.70469798657718 </td><td>4                </td><td>150           </td><td>4               </td><td>217          </td></tr>\n",
       "<tr><td><i style='opacity: 0.6'>163,170,055</i></td><td>CMT        </td><td>2010-12-02 00:17:46.000000000</td><td>2010-12-02 00:23:37.000000000</td><td>1                </td><td>1.6               </td><td>-74.005401        </td><td>40.744262        </td><td>1          </td><td>N                   </td><td>-73.987623         </td><td>40.760235         </td><td>CRED          </td><td>6.5          </td><td>0.5        </td><td>0.5      </td><td>1.0         </td><td>0.0           </td><td>8.5              </td><td>5.85               </td><td>16.410256410256412</td><td>4                </td><td>139           </td><td>4               </td><td>150          </td></tr>\n",
       "</tbody>\n",
       "</table>"
      ],
      "text/plain": [
       "#            vendor_id    pickup_datetime                dropoff_datetime               passenger_count    trip_distance       pickup_longitude    pickup_latitude    rate_code    store_and_fwd_flag    dropoff_longitude    dropoff_latitude    payment_type    fare_amount    surcharge    mta_tax    tip_amount    tolls_amount    total_amount       trip_duration_min    trip_speed_mph      dropoff_borough    dropoff_zone    pickup_borough    pickup_zone\n",
       "0            VTS          2010-01-26 07:41:00.000000000  2010-01-26 07:45:00.000000000  1                  0.75                -73.956778          40.76775           1            --                    -73.965957           40.765232           CASH            4.5            0.0          0.5        0.0           0.0             5.0                4.0                  11.25               4                  75              4                 115\n",
       "1            DDS          2010-01-30 23:31:00.000000000  2010-01-30 23:46:12.000000000  1                  5.9                 -73.99611799999998  40.763932          1            --                    -73.98151199999998   40.741193           CASH            15.3           0.5          0.5        0.0           0.0             16.3               15.2                 23.289473684210527  4                  160             4                 140\n",
       "2            DDS          2010-01-18 20:22:20.000000000  2010-01-18 20:38:12.000000000  1                  4.0                 -73.979673          40.78379           1            --                    -73.91785199999998   40.87856            CASH            11.7           0.5          0.5        0.0           0.0             12.7               15.866666666666667   15.126050420168069  3                  241             4                 212\n",
       "3            VTS          2010-01-09 01:18:00.000000000  2010-01-09 01:35:00.000000000  2                  4.7                 -73.977922          40.763997          1            --                    -73.92390799999998   40.759725           CASH            13.3           0.5          0.5        0.0           0.0             14.3               17.0                 16.58823529411765   0                  103             4                 117\n",
       "4            CMT          2010-01-18 19:10:14.000000000  2010-01-18 19:17:07.000000000  1                  0.5999999999999999  -73.990924          40.734682          1            0                     -73.99551099999998   40.739088           CRED            5.3            0.0          0.5        0.87          0.0             6.67               6.883333333333334    5.230024213075059   4                  217             4                 177\n",
       "...          ...          ...                            ...                            ...                ...                 ...                 ...                ...          ...                   ...                  ...                 ...             ...            ...          ...        ...           ...             ...                ...                  ...                 ...                ...             ...               ...\n",
       "163,170,051  VTS          2010-12-05 01:56:00.000000000  2010-12-05 02:02:00.000000000  2                  1.3                 -73.98385           40.749142          1            --                    -73.969747           40.756967           CRED            5.7            0.5          0.5        1.0           0.0             7.7                6.0                  13.0                4                  68              4                 187\n",
       "163,170,052  CMT          2010-12-02 01:11:19.000000000  2010-12-02 01:14:53.000000000  1                  1.4                 -73.957606          40.717869          1            N                     -73.955151           40.735764           CRED            5.3            0.5          0.5        1.26          0.0             7.559999999999999  3.566666666666667    23.551401869158877  2                  57              2                 248\n",
       "163,170,053  CMT          2010-12-02 01:07:41.000000000  2010-12-02 01:39:34.000000000  2                  12.1                -73.989767          40.729652          1            N                     -74.033006           40.618895           CRED            30.9           0.5          0.5        6.38          0.0             38.28              31.883333333333333   22.77051751176163   2                  114             4                 44\n",
       "163,170,054  CMT          2010-12-02 00:44:45.000000000  2010-12-02 00:54:41.000000000  1                  2.6                 -73.99100199999998  40.740599          1            N                     -73.998046           40.74686            CRED            8.9            0.5          0.5        1.48          0.0             11.38              9.933333333333334    15.70469798657718   4                  150             4                 217\n",
       "163,170,055  CMT          2010-12-02 00:17:46.000000000  2010-12-02 00:23:37.000000000  1                  1.6                 -74.005401          40.744262          1            N                     -73.987623           40.760235           CRED            6.5            0.5          0.5        1.0           0.0             8.5                5.85                 16.410256410256412  4                  139             4                 150"
      ]
     },
     "execution_count": 5,
     "metadata": {},
     "output_type": "execute_result"
    }
   ],
   "source": [
    "df.materialize(column='dropoff_borough', inplace=True)\n",
    "df.materialize(column='dropoff_zone', inplace=True)\n",
    "df.materialize(column='pickup_borough', inplace=True)\n",
    "df.materialize(column='pickup_zone', inplace=True)"
   ]
  },
  {
   "cell_type": "code",
   "execution_count": null,
   "id": "7b992d2a",
   "metadata": {},
   "outputs": [],
   "source": []
  },
  {
   "cell_type": "code",
   "execution_count": null,
   "id": "a9bf1c7c",
   "metadata": {},
   "outputs": [],
   "source": []
  },
  {
   "cell_type": "code",
   "execution_count": 6,
   "id": "c44b9579",
   "metadata": {},
   "outputs": [
    {
     "data": {
      "text/html": [
       "<table>\n",
       "<thead>\n",
       "<tr><th>#                                      </th><th>vendor_id  </th><th>pickup_datetime              </th><th>dropoff_datetime             </th><th>passenger_count  </th><th>trip_distance     </th><th>pickup_longitude  </th><th>pickup_latitude  </th><th>rate_code  </th><th>store_and_fwd_flag  </th><th>dropoff_longitude  </th><th>dropoff_latitude  </th><th>payment_type  </th><th>fare_amount  </th><th>surcharge  </th><th>mta_tax  </th><th>tip_amount  </th><th>tolls_amount  </th><th>total_amount     </th><th>trip_duration_min  </th><th>trip_speed_mph    </th><th>dropoff_borough  </th><th>dropoff_zone  </th><th>pickup_borough  </th><th>pickup_zone  </th><th>pickup_hour  </th><th>pickup_day_of_week  </th><th>pickup_month  </th><th>pickup_is_weekend  </th></tr>\n",
       "</thead>\n",
       "<tbody>\n",
       "<tr><td><i style='opacity: 0.6'>0</i>          </td><td>VTS        </td><td>2010-01-26 07:41:00.000000000</td><td>2010-01-26 07:45:00.000000000</td><td>1                </td><td>0.75              </td><td>-73.956778        </td><td>40.76775         </td><td>1          </td><td>--                  </td><td>-73.965957         </td><td>40.765232         </td><td>CASH          </td><td>4.5          </td><td>0.0        </td><td>0.5      </td><td>0.0         </td><td>0.0           </td><td>5.0              </td><td>4.0                </td><td>11.25             </td><td>4                </td><td>75            </td><td>4               </td><td>115          </td><td>7            </td><td>1                   </td><td>0             </td><td>False              </td></tr>\n",
       "<tr><td><i style='opacity: 0.6'>1</i>          </td><td>DDS        </td><td>2010-01-30 23:31:00.000000000</td><td>2010-01-30 23:46:12.000000000</td><td>1                </td><td>5.9               </td><td>-73.99611799999998</td><td>40.763932        </td><td>1          </td><td>--                  </td><td>-73.98151199999998 </td><td>40.741193         </td><td>CASH          </td><td>15.3         </td><td>0.5        </td><td>0.5      </td><td>0.0         </td><td>0.0           </td><td>16.3             </td><td>15.2               </td><td>23.289473684210527</td><td>4                </td><td>160           </td><td>4               </td><td>140          </td><td>23           </td><td>5                   </td><td>0             </td><td>True               </td></tr>\n",
       "<tr><td><i style='opacity: 0.6'>2</i>          </td><td>DDS        </td><td>2010-01-18 20:22:20.000000000</td><td>2010-01-18 20:38:12.000000000</td><td>1                </td><td>4.0               </td><td>-73.979673        </td><td>40.78379         </td><td>1          </td><td>--                  </td><td>-73.91785199999998 </td><td>40.87856          </td><td>CASH          </td><td>11.7         </td><td>0.5        </td><td>0.5      </td><td>0.0         </td><td>0.0           </td><td>12.7             </td><td>15.866666666666667 </td><td>15.126050420168069</td><td>3                </td><td>241           </td><td>4               </td><td>212          </td><td>20           </td><td>0                   </td><td>0             </td><td>False              </td></tr>\n",
       "<tr><td><i style='opacity: 0.6'>3</i>          </td><td>VTS        </td><td>2010-01-09 01:18:00.000000000</td><td>2010-01-09 01:35:00.000000000</td><td>2                </td><td>4.7               </td><td>-73.977922        </td><td>40.763997        </td><td>1          </td><td>--                  </td><td>-73.92390799999998 </td><td>40.759725         </td><td>CASH          </td><td>13.3         </td><td>0.5        </td><td>0.5      </td><td>0.0         </td><td>0.0           </td><td>14.3             </td><td>17.0               </td><td>16.58823529411765 </td><td>0                </td><td>103           </td><td>4               </td><td>117          </td><td>1            </td><td>5                   </td><td>0             </td><td>True               </td></tr>\n",
       "<tr><td><i style='opacity: 0.6'>4</i>          </td><td>CMT        </td><td>2010-01-18 19:10:14.000000000</td><td>2010-01-18 19:17:07.000000000</td><td>1                </td><td>0.5999999999999999</td><td>-73.990924        </td><td>40.734682        </td><td>1          </td><td>0                   </td><td>-73.99551099999998 </td><td>40.739088         </td><td>CRED          </td><td>5.3          </td><td>0.0        </td><td>0.5      </td><td>0.87        </td><td>0.0           </td><td>6.67             </td><td>6.883333333333334  </td><td>5.230024213075059 </td><td>4                </td><td>217           </td><td>4               </td><td>177          </td><td>19           </td><td>0                   </td><td>0             </td><td>False              </td></tr>\n",
       "<tr><td>...                                    </td><td>...        </td><td>...                          </td><td>...                          </td><td>...              </td><td>...               </td><td>...               </td><td>...              </td><td>...        </td><td>...                 </td><td>...                </td><td>...               </td><td>...           </td><td>...          </td><td>...        </td><td>...      </td><td>...         </td><td>...           </td><td>...              </td><td>...                </td><td>...               </td><td>...              </td><td>...           </td><td>...             </td><td>...          </td><td>...          </td><td>...                 </td><td>...           </td><td>...                </td></tr>\n",
       "<tr><td><i style='opacity: 0.6'>163,170,051</i></td><td>VTS        </td><td>2010-12-05 01:56:00.000000000</td><td>2010-12-05 02:02:00.000000000</td><td>2                </td><td>1.3               </td><td>-73.98385         </td><td>40.749142        </td><td>1          </td><td>--                  </td><td>-73.969747         </td><td>40.756967         </td><td>CRED          </td><td>5.7          </td><td>0.5        </td><td>0.5      </td><td>1.0         </td><td>0.0           </td><td>7.7              </td><td>6.0                </td><td>13.0              </td><td>4                </td><td>68            </td><td>4               </td><td>187          </td><td>1            </td><td>6                   </td><td>11            </td><td>True               </td></tr>\n",
       "<tr><td><i style='opacity: 0.6'>163,170,052</i></td><td>CMT        </td><td>2010-12-02 01:11:19.000000000</td><td>2010-12-02 01:14:53.000000000</td><td>1                </td><td>1.4               </td><td>-73.957606        </td><td>40.717869        </td><td>1          </td><td>N                   </td><td>-73.955151         </td><td>40.735764         </td><td>CRED          </td><td>5.3          </td><td>0.5        </td><td>0.5      </td><td>1.26        </td><td>0.0           </td><td>7.559999999999999</td><td>3.566666666666667  </td><td>23.551401869158877</td><td>2                </td><td>57            </td><td>2               </td><td>248          </td><td>1            </td><td>3                   </td><td>11            </td><td>False              </td></tr>\n",
       "<tr><td><i style='opacity: 0.6'>163,170,053</i></td><td>CMT        </td><td>2010-12-02 01:07:41.000000000</td><td>2010-12-02 01:39:34.000000000</td><td>2                </td><td>12.1              </td><td>-73.989767        </td><td>40.729652        </td><td>1          </td><td>N                   </td><td>-74.033006         </td><td>40.618895         </td><td>CRED          </td><td>30.9         </td><td>0.5        </td><td>0.5      </td><td>6.38        </td><td>0.0           </td><td>38.28            </td><td>31.883333333333333 </td><td>22.77051751176163 </td><td>2                </td><td>114           </td><td>4               </td><td>44           </td><td>1            </td><td>3                   </td><td>11            </td><td>False              </td></tr>\n",
       "<tr><td><i style='opacity: 0.6'>163,170,054</i></td><td>CMT        </td><td>2010-12-02 00:44:45.000000000</td><td>2010-12-02 00:54:41.000000000</td><td>1                </td><td>2.6               </td><td>-73.99100199999998</td><td>40.740599        </td><td>1          </td><td>N                   </td><td>-73.998046         </td><td>40.74686          </td><td>CRED          </td><td>8.9          </td><td>0.5        </td><td>0.5      </td><td>1.48        </td><td>0.0           </td><td>11.38            </td><td>9.933333333333334  </td><td>15.70469798657718 </td><td>4                </td><td>150           </td><td>4               </td><td>217          </td><td>0            </td><td>3                   </td><td>11            </td><td>False              </td></tr>\n",
       "<tr><td><i style='opacity: 0.6'>163,170,055</i></td><td>CMT        </td><td>2010-12-02 00:17:46.000000000</td><td>2010-12-02 00:23:37.000000000</td><td>1                </td><td>1.6               </td><td>-74.005401        </td><td>40.744262        </td><td>1          </td><td>N                   </td><td>-73.987623         </td><td>40.760235         </td><td>CRED          </td><td>6.5          </td><td>0.5        </td><td>0.5      </td><td>1.0         </td><td>0.0           </td><td>8.5              </td><td>5.85               </td><td>16.410256410256412</td><td>4                </td><td>139           </td><td>4               </td><td>150          </td><td>0            </td><td>3                   </td><td>11            </td><td>False              </td></tr>\n",
       "</tbody>\n",
       "</table>"
      ],
      "text/plain": [
       "#            vendor_id    pickup_datetime                dropoff_datetime               passenger_count    trip_distance       pickup_longitude    pickup_latitude    rate_code    store_and_fwd_flag    dropoff_longitude    dropoff_latitude    payment_type    fare_amount    surcharge    mta_tax    tip_amount    tolls_amount    total_amount       trip_duration_min    trip_speed_mph      dropoff_borough    dropoff_zone    pickup_borough    pickup_zone    pickup_hour    pickup_day_of_week    pickup_month    pickup_is_weekend\n",
       "0            VTS          2010-01-26 07:41:00.000000000  2010-01-26 07:45:00.000000000  1                  0.75                -73.956778          40.76775           1            --                    -73.965957           40.765232           CASH            4.5            0.0          0.5        0.0           0.0             5.0                4.0                  11.25               4                  75              4                 115            7              1                     0               False\n",
       "1            DDS          2010-01-30 23:31:00.000000000  2010-01-30 23:46:12.000000000  1                  5.9                 -73.99611799999998  40.763932          1            --                    -73.98151199999998   40.741193           CASH            15.3           0.5          0.5        0.0           0.0             16.3               15.2                 23.289473684210527  4                  160             4                 140            23             5                     0               True\n",
       "2            DDS          2010-01-18 20:22:20.000000000  2010-01-18 20:38:12.000000000  1                  4.0                 -73.979673          40.78379           1            --                    -73.91785199999998   40.87856            CASH            11.7           0.5          0.5        0.0           0.0             12.7               15.866666666666667   15.126050420168069  3                  241             4                 212            20             0                     0               False\n",
       "3            VTS          2010-01-09 01:18:00.000000000  2010-01-09 01:35:00.000000000  2                  4.7                 -73.977922          40.763997          1            --                    -73.92390799999998   40.759725           CASH            13.3           0.5          0.5        0.0           0.0             14.3               17.0                 16.58823529411765   0                  103             4                 117            1              5                     0               True\n",
       "4            CMT          2010-01-18 19:10:14.000000000  2010-01-18 19:17:07.000000000  1                  0.5999999999999999  -73.990924          40.734682          1            0                     -73.99551099999998   40.739088           CRED            5.3            0.0          0.5        0.87          0.0             6.67               6.883333333333334    5.230024213075059   4                  217             4                 177            19             0                     0               False\n",
       "...          ...          ...                            ...                            ...                ...                 ...                 ...                ...          ...                   ...                  ...                 ...             ...            ...          ...        ...           ...             ...                ...                  ...                 ...                ...             ...               ...            ...            ...                   ...             ...\n",
       "163,170,051  VTS          2010-12-05 01:56:00.000000000  2010-12-05 02:02:00.000000000  2                  1.3                 -73.98385           40.749142          1            --                    -73.969747           40.756967           CRED            5.7            0.5          0.5        1.0           0.0             7.7                6.0                  13.0                4                  68              4                 187            1              6                     11              True\n",
       "163,170,052  CMT          2010-12-02 01:11:19.000000000  2010-12-02 01:14:53.000000000  1                  1.4                 -73.957606          40.717869          1            N                     -73.955151           40.735764           CRED            5.3            0.5          0.5        1.26          0.0             7.559999999999999  3.566666666666667    23.551401869158877  2                  57              2                 248            1              3                     11              False\n",
       "163,170,053  CMT          2010-12-02 01:07:41.000000000  2010-12-02 01:39:34.000000000  2                  12.1                -73.989767          40.729652          1            N                     -74.033006           40.618895           CRED            30.9           0.5          0.5        6.38          0.0             38.28              31.883333333333333   22.77051751176163   2                  114             4                 44             1              3                     11              False\n",
       "163,170,054  CMT          2010-12-02 00:44:45.000000000  2010-12-02 00:54:41.000000000  1                  2.6                 -73.99100199999998  40.740599          1            N                     -73.998046           40.74686            CRED            8.9            0.5          0.5        1.48          0.0             11.38              9.933333333333334    15.70469798657718   4                  150             4                 217            0              3                     11              False\n",
       "163,170,055  CMT          2010-12-02 00:17:46.000000000  2010-12-02 00:23:37.000000000  1                  1.6                 -74.005401          40.744262          1            N                     -73.987623           40.760235           CRED            6.5            0.5          0.5        1.0           0.0             8.5                5.85                 16.410256410256412  4                  139             4                 150            0              3                     11              False"
      ]
     },
     "execution_count": 6,
     "metadata": {},
     "output_type": "execute_result"
    }
   ],
   "source": [
    "# Extract some date/time features\n",
    "\n",
    "df['pickup_hour'] = df.pickup_datetime.dt.hour\n",
    "df['pickup_day_of_week'] = df.pickup_datetime.dt.dayofweek\n",
    "df['pickup_month'] = df.pickup_datetime.dt.month - 1  # to count from zero\n",
    "df['pickup_is_weekend'] = (df.pickup_day_of_week>=5)\n",
    "\n",
    "\n",
    "# Treat these columns as label/ordinal encoded values\n",
    "\n",
    "df.categorize(column='pickup_hour', inplace=True)\n",
    "df.categorize(column='pickup_day_of_week', labels=['Mon', 'Tue', 'Wed', 'Thu', 'Fri', 'Sat', 'Sun'], inplace=True)\n",
    "df.categorize(column='pickup_month', inplace=True)\n",
    "\n"
   ]
  },
  {
   "cell_type": "code",
   "execution_count": null,
   "id": "2363a81d",
   "metadata": {},
   "outputs": [],
   "source": []
  },
  {
   "cell_type": "code",
   "execution_count": 7,
   "id": "f6ee1d73",
   "metadata": {},
   "outputs": [],
   "source": [
    "# direct distance from point A to point B\n",
    "def arc_distance(theta_1, phi_1, theta_2, phi_2):\n",
    "    temp = (np.sin((theta_2-theta_1)/2*np.pi/180)**2 + np.cos(theta_1*np.pi/180)*np.cos(theta_2*np.pi/180) * np.sin((phi_2-phi_1)/2*np.pi/180)**2)\n",
    "    distance = 2 * np.arctan2(np.sqrt(temp), np.sqrt(1-temp))\n",
    "    return distance * 3958.8\n",
    "\n",
    "# Expression to be pre-compiled with numba, and then executed\n",
    "df['arc_distance'] = arc_distance(df.pickup_longitude, df.pickup_latitude, df.dropoff_longitude, df.dropoff_latitude).jit_numba()"
   ]
  },
  {
   "cell_type": "code",
   "execution_count": 8,
   "id": "36a9fdc1",
   "metadata": {},
   "outputs": [
    {
     "name": "stdout",
     "output_type": "stream",
     "text": [
      "count [########################################] 100.00% elapsed time  :     0.00s =  0.0m =  0.0h\n",
      "count [########################################] 100.00% elapsed time  :     1.71s =  0.0m =  0.0h \n",
      "count [########################################] 100.00% elapsed time  :     0.00s =  0.0m =  0.0h\n",
      "count [########################################] 100.00% elapsed time  :     5.32s =  0.1m =  0.0h\n",
      " "
     ]
    },
    {
     "data": {
      "image/png": "[encoded data removed]",
      "text/plain": [
       "<Figure size 1152x288 with 1 Axes>"
      ]
     },
     "metadata": {
      "needs_background": "light"
     },
     "output_type": "display_data"
    }
   ],
   "source": [
    "plt.figure(figsize=(16, 4))\n",
    "\n",
    "df.plot1d('trip_distance', shape=128, limits=[0, 100], lw=3, f='log10', color='C0', \n",
    "                   label='trip distance', progress=True)\n",
    "df.plot1d('arc_distance', shape=128, limits=[0, 100], lw=3, f='log10', color='C3', \n",
    "                   label='arc distance', progress=True)\n",
    "plt.legend(fontsize=14)\n",
    "plt.xlabel('Distance [miles]')\n",
    "plt.ylabel('Number of trips')\n",
    "\n",
    "plt.show()"
   ]
  },
  {
   "cell_type": "code",
   "execution_count": null,
   "id": "62fb33cb",
   "metadata": {},
   "outputs": [],
   "source": []
  },
  {
   "cell_type": "code",
   "execution_count": null,
   "id": "f11fd9df",
   "metadata": {},
   "outputs": [],
   "source": []
  },
  {
   "cell_type": "code",
   "execution_count": null,
   "id": "e54bd6db",
   "metadata": {},
   "outputs": [],
   "source": []
  },
  {
   "cell_type": "code",
   "execution_count": null,
   "id": "73684ab1",
   "metadata": {},
   "outputs": [],
   "source": []
  },
  {
   "cell_type": "code",
   "execution_count": 9,
   "id": "2af2c670",
   "metadata": {},
   "outputs": [
    {
     "data": {
      "text/html": [
       "<table>\n",
       "<thead>\n",
       "<tr><th>#                            </th><th>vendor_id  </th><th>pickup_datetime              </th><th>dropoff_datetime             </th><th style=\"text-align: right;\">  passenger_count</th><th style=\"text-align: right;\">  trip_distance</th><th style=\"text-align: right;\">  pickup_longitude</th><th style=\"text-align: right;\">  pickup_latitude</th><th style=\"text-align: right;\">  rate_code</th><th>store_and_fwd_flag  </th><th style=\"text-align: right;\">  dropoff_longitude</th><th style=\"text-align: right;\">  dropoff_latitude</th><th>payment_type  </th><th style=\"text-align: right;\">  fare_amount</th><th style=\"text-align: right;\">  surcharge</th><th style=\"text-align: right;\">  mta_tax</th><th style=\"text-align: right;\">  tip_amount</th><th style=\"text-align: right;\">  tolls_amount</th><th style=\"text-align: right;\">  total_amount</th><th style=\"text-align: right;\">  trip_duration_min</th><th style=\"text-align: right;\">  trip_speed_mph</th><th style=\"text-align: right;\">  dropoff_borough</th><th style=\"text-align: right;\">  dropoff_zone</th><th style=\"text-align: right;\">  pickup_borough</th><th style=\"text-align: right;\">  pickup_zone</th><th style=\"text-align: right;\">  pickup_hour</th><th style=\"text-align: right;\">  pickup_day_of_week</th><th style=\"text-align: right;\">  pickup_month</th><th>pickup_is_weekend  </th><th style=\"text-align: right;\">  arc_distance</th></tr>\n",
       "</thead>\n",
       "<tbody>\n",
       "<tr><td><i style='opacity: 0.6'>0</i></td><td>VTS        </td><td>2010-01-26 07:41:00.000000000</td><td>2010-01-26 07:45:00.000000000</td><td style=\"text-align: right;\">                1</td><td style=\"text-align: right;\">           0.75</td><td style=\"text-align: right;\">          -73.9568</td><td style=\"text-align: right;\">          40.7677</td><td style=\"text-align: right;\">          1</td><td>--                  </td><td style=\"text-align: right;\">           -73.966 </td><td style=\"text-align: right;\">           40.7652</td><td>CASH          </td><td style=\"text-align: right;\">          4.5</td><td style=\"text-align: right;\">        0  </td><td style=\"text-align: right;\">      0.5</td><td style=\"text-align: right;\">        0   </td><td style=\"text-align: right;\">             0</td><td style=\"text-align: right;\">          5   </td><td style=\"text-align: right;\">            4      </td><td style=\"text-align: right;\">        11.25   </td><td style=\"text-align: right;\">                4</td><td style=\"text-align: right;\">            75</td><td style=\"text-align: right;\">               4</td><td style=\"text-align: right;\">          115</td><td style=\"text-align: right;\">            7</td><td style=\"text-align: right;\">                   1</td><td style=\"text-align: right;\">             0</td><td>False              </td><td style=\"text-align: right;\">      0.636034</td></tr>\n",
       "<tr><td><i style='opacity: 0.6'>1</i></td><td>DDS        </td><td>2010-01-30 23:31:00.000000000</td><td>2010-01-30 23:46:12.000000000</td><td style=\"text-align: right;\">                1</td><td style=\"text-align: right;\">           5.9 </td><td style=\"text-align: right;\">          -73.9961</td><td style=\"text-align: right;\">          40.7639</td><td style=\"text-align: right;\">          1</td><td>--                  </td><td style=\"text-align: right;\">           -73.9815</td><td style=\"text-align: right;\">           40.7412</td><td>CASH          </td><td style=\"text-align: right;\">         15.3</td><td style=\"text-align: right;\">        0.5</td><td style=\"text-align: right;\">      0.5</td><td style=\"text-align: right;\">        0   </td><td style=\"text-align: right;\">             0</td><td style=\"text-align: right;\">         16.3 </td><td style=\"text-align: right;\">           15.2    </td><td style=\"text-align: right;\">        23.2895 </td><td style=\"text-align: right;\">                4</td><td style=\"text-align: right;\">           160</td><td style=\"text-align: right;\">               4</td><td style=\"text-align: right;\">          140</td><td style=\"text-align: right;\">           23</td><td style=\"text-align: right;\">                   5</td><td style=\"text-align: right;\">             0</td><td>True               </td><td style=\"text-align: right;\">      1.0983  </td></tr>\n",
       "<tr><td><i style='opacity: 0.6'>2</i></td><td>DDS        </td><td>2010-01-18 20:22:20.000000000</td><td>2010-01-18 20:38:12.000000000</td><td style=\"text-align: right;\">                1</td><td style=\"text-align: right;\">           4   </td><td style=\"text-align: right;\">          -73.9797</td><td style=\"text-align: right;\">          40.7838</td><td style=\"text-align: right;\">          1</td><td>--                  </td><td style=\"text-align: right;\">           -73.9179</td><td style=\"text-align: right;\">           40.8786</td><td>CASH          </td><td style=\"text-align: right;\">         11.7</td><td style=\"text-align: right;\">        0.5</td><td style=\"text-align: right;\">      0.5</td><td style=\"text-align: right;\">        0   </td><td style=\"text-align: right;\">             0</td><td style=\"text-align: right;\">         12.7 </td><td style=\"text-align: right;\">           15.8667 </td><td style=\"text-align: right;\">        15.1261 </td><td style=\"text-align: right;\">                3</td><td style=\"text-align: right;\">           241</td><td style=\"text-align: right;\">               4</td><td style=\"text-align: right;\">          212</td><td style=\"text-align: right;\">           20</td><td style=\"text-align: right;\">                   0</td><td style=\"text-align: right;\">             0</td><td>False              </td><td style=\"text-align: right;\">      4.63933 </td></tr>\n",
       "<tr><td><i style='opacity: 0.6'>3</i></td><td>VTS        </td><td>2010-01-09 01:18:00.000000000</td><td>2010-01-09 01:35:00.000000000</td><td style=\"text-align: right;\">                2</td><td style=\"text-align: right;\">           4.7 </td><td style=\"text-align: right;\">          -73.9779</td><td style=\"text-align: right;\">          40.764 </td><td style=\"text-align: right;\">          1</td><td>--                  </td><td style=\"text-align: right;\">           -73.9239</td><td style=\"text-align: right;\">           40.7597</td><td>CASH          </td><td style=\"text-align: right;\">         13.3</td><td style=\"text-align: right;\">        0.5</td><td style=\"text-align: right;\">      0.5</td><td style=\"text-align: right;\">        0   </td><td style=\"text-align: right;\">             0</td><td style=\"text-align: right;\">         14.3 </td><td style=\"text-align: right;\">           17      </td><td style=\"text-align: right;\">        16.5882 </td><td style=\"text-align: right;\">                0</td><td style=\"text-align: right;\">           103</td><td style=\"text-align: right;\">               4</td><td style=\"text-align: right;\">          117</td><td style=\"text-align: right;\">            1</td><td style=\"text-align: right;\">                   5</td><td style=\"text-align: right;\">             0</td><td>True               </td><td style=\"text-align: right;\">      3.73294 </td></tr>\n",
       "<tr><td><i style='opacity: 0.6'>4</i></td><td>CMT        </td><td>2010-01-18 19:10:14.000000000</td><td>2010-01-18 19:17:07.000000000</td><td style=\"text-align: right;\">                1</td><td style=\"text-align: right;\">           0.6 </td><td style=\"text-align: right;\">          -73.9909</td><td style=\"text-align: right;\">          40.7347</td><td style=\"text-align: right;\">          1</td><td>0                   </td><td style=\"text-align: right;\">           -73.9955</td><td style=\"text-align: right;\">           40.7391</td><td>CRED          </td><td style=\"text-align: right;\">          5.3</td><td style=\"text-align: right;\">        0  </td><td style=\"text-align: right;\">      0.5</td><td style=\"text-align: right;\">        0.87</td><td style=\"text-align: right;\">             0</td><td style=\"text-align: right;\">          6.67</td><td style=\"text-align: right;\">            6.88333</td><td style=\"text-align: right;\">         5.23002</td><td style=\"text-align: right;\">                4</td><td style=\"text-align: right;\">           217</td><td style=\"text-align: right;\">               4</td><td style=\"text-align: right;\">          177</td><td style=\"text-align: right;\">           19</td><td style=\"text-align: right;\">                   0</td><td style=\"text-align: right;\">             0</td><td>False              </td><td style=\"text-align: right;\">      0.327864</td></tr>\n",
       "<tr><td><i style='opacity: 0.6'>5</i></td><td>VTS        </td><td>2010-01-17 09:18:00.000000000</td><td>2010-01-17 09:25:00.000000000</td><td style=\"text-align: right;\">                1</td><td style=\"text-align: right;\">           1.33</td><td style=\"text-align: right;\">          -73.9937</td><td style=\"text-align: right;\">          40.7549</td><td style=\"text-align: right;\">          1</td><td>--                  </td><td style=\"text-align: right;\">           -73.9847</td><td style=\"text-align: right;\">           40.7559</td><td>CASH          </td><td style=\"text-align: right;\">          6.1</td><td style=\"text-align: right;\">        0  </td><td style=\"text-align: right;\">      0.5</td><td style=\"text-align: right;\">        0   </td><td style=\"text-align: right;\">             0</td><td style=\"text-align: right;\">          6.6 </td><td style=\"text-align: right;\">            7      </td><td style=\"text-align: right;\">        11.4    </td><td style=\"text-align: right;\">                4</td><td style=\"text-align: right;\">           234</td><td style=\"text-align: right;\">               4</td><td style=\"text-align: right;\">          150</td><td style=\"text-align: right;\">            9</td><td style=\"text-align: right;\">                   6</td><td style=\"text-align: right;\">             0</td><td>True               </td><td style=\"text-align: right;\">      0.624355</td></tr>\n",
       "<tr><td><i style='opacity: 0.6'>6</i></td><td>VTS        </td><td>2010-01-09 13:49:00.000000000</td><td>2010-01-09 13:56:00.000000000</td><td style=\"text-align: right;\">                1</td><td style=\"text-align: right;\">           1.83</td><td style=\"text-align: right;\">          -73.971 </td><td style=\"text-align: right;\">          40.7513</td><td style=\"text-align: right;\">          1</td><td>--                  </td><td style=\"text-align: right;\">           -73.9906</td><td style=\"text-align: right;\">           40.7349</td><td>CASH          </td><td style=\"text-align: right;\">          6.9</td><td style=\"text-align: right;\">        0  </td><td style=\"text-align: right;\">      0.5</td><td style=\"text-align: right;\">        0   </td><td style=\"text-align: right;\">             0</td><td style=\"text-align: right;\">          7.4 </td><td style=\"text-align: right;\">            7      </td><td style=\"text-align: right;\">        15.6857 </td><td style=\"text-align: right;\">                4</td><td style=\"text-align: right;\">           217</td><td style=\"text-align: right;\">               4</td><td style=\"text-align: right;\">          246</td><td style=\"text-align: right;\">           13</td><td style=\"text-align: right;\">                   5</td><td style=\"text-align: right;\">             0</td><td>True               </td><td style=\"text-align: right;\">      1.3851  </td></tr>\n",
       "<tr><td><i style='opacity: 0.6'>7</i></td><td>VTS        </td><td>2010-01-09 00:25:00.000000000</td><td>2010-01-09 00:39:00.000000000</td><td style=\"text-align: right;\">                1</td><td style=\"text-align: right;\">           3.28</td><td style=\"text-align: right;\">          -73.99  </td><td style=\"text-align: right;\">          40.7256</td><td style=\"text-align: right;\">          1</td><td>--                  </td><td style=\"text-align: right;\">           -73.9938</td><td style=\"text-align: right;\">           40.7617</td><td>CASH          </td><td style=\"text-align: right;\">         11.3</td><td style=\"text-align: right;\">        0.5</td><td style=\"text-align: right;\">      0.5</td><td style=\"text-align: right;\">        0   </td><td style=\"text-align: right;\">             0</td><td style=\"text-align: right;\">         12.3 </td><td style=\"text-align: right;\">           14      </td><td style=\"text-align: right;\">        14.0571 </td><td style=\"text-align: right;\">                4</td><td style=\"text-align: right;\">           139</td><td style=\"text-align: right;\">               4</td><td style=\"text-align: right;\">           44</td><td style=\"text-align: right;\">            0</td><td style=\"text-align: right;\">                   5</td><td style=\"text-align: right;\">             0</td><td>True               </td><td style=\"text-align: right;\">      0.735747</td></tr>\n",
       "<tr><td><i style='opacity: 0.6'>8</i></td><td>VTS        </td><td>2010-01-27 18:15:00.000000000</td><td>2010-01-27 18:29:00.000000000</td><td style=\"text-align: right;\">                1</td><td style=\"text-align: right;\">           1.42</td><td style=\"text-align: right;\">          -73.9796</td><td style=\"text-align: right;\">          40.7438</td><td style=\"text-align: right;\">          1</td><td>--                  </td><td style=\"text-align: right;\">           -73.9894</td><td style=\"text-align: right;\">           40.7568</td><td>CRED          </td><td style=\"text-align: right;\">          8.5</td><td style=\"text-align: right;\">        1  </td><td style=\"text-align: right;\">      0.5</td><td style=\"text-align: right;\">        2   </td><td style=\"text-align: right;\">             0</td><td style=\"text-align: right;\">         12   </td><td style=\"text-align: right;\">           14      </td><td style=\"text-align: right;\">         6.08571</td><td style=\"text-align: right;\">                4</td><td style=\"text-align: right;\">            48</td><td style=\"text-align: right;\">               4</td><td style=\"text-align: right;\">          187</td><td style=\"text-align: right;\">           18</td><td style=\"text-align: right;\">                   2</td><td style=\"text-align: right;\">             0</td><td>False              </td><td style=\"text-align: right;\">      0.72058 </td></tr>\n",
       "<tr><td><i style='opacity: 0.6'>9</i></td><td>VTS        </td><td>2010-01-08 16:05:00.000000000</td><td>2010-01-08 16:13:00.000000000</td><td style=\"text-align: right;\">                1</td><td style=\"text-align: right;\">           0.84</td><td style=\"text-align: right;\">          -74.0009</td><td style=\"text-align: right;\">          40.7573</td><td style=\"text-align: right;\">          1</td><td>--                  </td><td style=\"text-align: right;\">           -73.9898</td><td style=\"text-align: right;\">           40.7574</td><td>CRED          </td><td style=\"text-align: right;\">          5.7</td><td style=\"text-align: right;\">        1  </td><td style=\"text-align: right;\">      0.5</td><td style=\"text-align: right;\">        3   </td><td style=\"text-align: right;\">             0</td><td style=\"text-align: right;\">         10.2 </td><td style=\"text-align: right;\">            8      </td><td style=\"text-align: right;\">         6.3    </td><td style=\"text-align: right;\">                4</td><td style=\"text-align: right;\">           139</td><td style=\"text-align: right;\">               4</td><td style=\"text-align: right;\">          255</td><td style=\"text-align: right;\">           16</td><td style=\"text-align: right;\">                   4</td><td style=\"text-align: right;\">             0</td><td>False              </td><td style=\"text-align: right;\">      0.770403</td></tr>\n",
       "</tbody>\n",
       "</table>"
      ],
      "text/plain": [
       "  #  vendor_id    pickup_datetime                dropoff_datetime                 passenger_count    trip_distance    pickup_longitude    pickup_latitude    rate_code  store_and_fwd_flag      dropoff_longitude    dropoff_latitude  payment_type      fare_amount    surcharge    mta_tax    tip_amount    tolls_amount    total_amount    trip_duration_min    trip_speed_mph    dropoff_borough    dropoff_zone    pickup_borough    pickup_zone    pickup_hour    pickup_day_of_week    pickup_month  pickup_is_weekend      arc_distance\n",
       "  0  VTS          2010-01-26 07:41:00.000000000  2010-01-26 07:45:00.000000000                  1             0.75            -73.9568            40.7677            1  --                               -73.966              40.7652  CASH                      4.5          0          0.5          0                  0            5                 4                11.25                     4              75                 4            115              7                     1               0  False                      0.636034\n",
       "  1  DDS          2010-01-30 23:31:00.000000000  2010-01-30 23:46:12.000000000                  1             5.9             -73.9961            40.7639            1  --                               -73.9815             40.7412  CASH                     15.3          0.5        0.5          0                  0           16.3              15.2              23.2895                   4             160                 4            140             23                     5               0  True                       1.0983\n",
       "  2  DDS          2010-01-18 20:22:20.000000000  2010-01-18 20:38:12.000000000                  1             4               -73.9797            40.7838            1  --                               -73.9179             40.8786  CASH                     11.7          0.5        0.5          0                  0           12.7              15.8667           15.1261                   3             241                 4            212             20                     0               0  False                      4.63933\n",
       "  3  VTS          2010-01-09 01:18:00.000000000  2010-01-09 01:35:00.000000000                  2             4.7             -73.9779            40.764             1  --                               -73.9239             40.7597  CASH                     13.3          0.5        0.5          0                  0           14.3              17                16.5882                   0             103                 4            117              1                     5               0  True                       3.73294\n",
       "  4  CMT          2010-01-18 19:10:14.000000000  2010-01-18 19:17:07.000000000                  1             0.6             -73.9909            40.7347            1  0                                -73.9955             40.7391  CRED                      5.3          0          0.5          0.87               0            6.67              6.88333           5.23002                  4             217                 4            177             19                     0               0  False                      0.327864\n",
       "  5  VTS          2010-01-17 09:18:00.000000000  2010-01-17 09:25:00.000000000                  1             1.33            -73.9937            40.7549            1  --                               -73.9847             40.7559  CASH                      6.1          0          0.5          0                  0            6.6               7                11.4                      4             234                 4            150              9                     6               0  True                       0.624355\n",
       "  6  VTS          2010-01-09 13:49:00.000000000  2010-01-09 13:56:00.000000000                  1             1.83            -73.971             40.7513            1  --                               -73.9906             40.7349  CASH                      6.9          0          0.5          0                  0            7.4               7                15.6857                   4             217                 4            246             13                     5               0  True                       1.3851\n",
       "  7  VTS          2010-01-09 00:25:00.000000000  2010-01-09 00:39:00.000000000                  1             3.28            -73.99              40.7256            1  --                               -73.9938             40.7617  CASH                     11.3          0.5        0.5          0                  0           12.3              14                14.0571                   4             139                 4             44              0                     5               0  True                       0.735747\n",
       "  8  VTS          2010-01-27 18:15:00.000000000  2010-01-27 18:29:00.000000000                  1             1.42            -73.9796            40.7438            1  --                               -73.9894             40.7568  CRED                      8.5          1          0.5          2                  0           12                14                 6.08571                  4              48                 4            187             18                     2               0  False                      0.72058\n",
       "  9  VTS          2010-01-08 16:05:00.000000000  2010-01-08 16:13:00.000000000                  1             0.84            -74.0009            40.7573            1  --                               -73.9898             40.7574  CRED                      5.7          1          0.5          3                  0           10.2               8                 6.3                      4             139                 4            255             16                     4               0  False                      0.770403"
      ]
     },
     "execution_count": 9,
     "metadata": {},
     "output_type": "execute_result"
    }
   ],
   "source": [
    "df.head()"
   ]
  },
  {
   "cell_type": "code",
   "execution_count": 10,
   "id": "2cc23517",
   "metadata": {},
   "outputs": [],
   "source": [
    "df = df.drop(['rate_code', 'store_and_fwd_flag', 'surcharge', 'mta_tax', 'tolls_amount'])"
   ]
  },
  {
   "cell_type": "code",
   "execution_count": null,
   "id": "0c910e6a",
   "metadata": {},
   "outputs": [],
   "source": []
  },
  {
   "cell_type": "code",
   "execution_count": 11,
   "id": "4e879b28",
   "metadata": {},
   "outputs": [],
   "source": [
    "# Drop missing values\n",
    "df = df.dropna(column_names=['dropoff_longitude', 'dropoff_latitude'])\n",
    "\n",
    "# Drop missing pickup and dropoff locations\n",
    "df = df.dropmissing(['dropoff_borough', 'dropoff_zone', 'pickup_borough', 'pickup_zone'])\n"
   ]
  },
  {
   "cell_type": "code",
   "execution_count": 12,
   "id": "79e589ea",
   "metadata": {},
   "outputs": [
    {
     "data": {
      "text/plain": [
       "(162256905, 24)"
      ]
     },
     "execution_count": 12,
     "metadata": {},
     "output_type": "execute_result"
    }
   ],
   "source": [
    "\n",
    "df.shape"
   ]
  },
  {
   "cell_type": "code",
   "execution_count": null,
   "id": "de4fd0c8",
   "metadata": {},
   "outputs": [],
   "source": []
  },
  {
   "cell_type": "code",
   "execution_count": 15,
   "id": "80a4b15e",
   "metadata": {},
   "outputs": [],
   "source": [
    "vendors_dict = {'VTS':0, 'CMT':1, 'DDS':2}\n",
    "df['vendor_id'] = df['vendor_id'].apply(lambda x: vendors_dict[x])\n",
    "\n"
   ]
  },
  {
   "cell_type": "code",
   "execution_count": 16,
   "id": "b4eb692f",
   "metadata": {},
   "outputs": [
    {
     "data": {
      "text/html": [
       "<table>\n",
       "<thead>\n",
       "<tr><th>#                            </th><th style=\"text-align: right;\">  vendor_id</th><th>pickup_datetime              </th><th>dropoff_datetime             </th><th style=\"text-align: right;\">  passenger_count</th><th style=\"text-align: right;\">  trip_distance</th><th style=\"text-align: right;\">  pickup_longitude</th><th style=\"text-align: right;\">  pickup_latitude</th><th style=\"text-align: right;\">  dropoff_longitude</th><th style=\"text-align: right;\">  dropoff_latitude</th><th>payment_type  </th><th style=\"text-align: right;\">  fare_amount</th><th style=\"text-align: right;\">  tip_amount</th><th style=\"text-align: right;\">  total_amount</th><th style=\"text-align: right;\">  trip_duration_min</th><th style=\"text-align: right;\">  trip_speed_mph</th><th style=\"text-align: right;\">  dropoff_borough</th><th style=\"text-align: right;\">  dropoff_zone</th><th style=\"text-align: right;\">  pickup_borough</th><th style=\"text-align: right;\">  pickup_zone</th><th style=\"text-align: right;\">  pickup_hour</th><th style=\"text-align: right;\">  pickup_day_of_week</th><th style=\"text-align: right;\">  pickup_month</th><th>pickup_is_weekend  </th><th style=\"text-align: right;\">  arc_distance</th><th style=\"text-align: right;\">  vendor_id_new</th></tr>\n",
       "</thead>\n",
       "<tbody>\n",
       "<tr><td><i style='opacity: 0.6'>0</i></td><td style=\"text-align: right;\">          0</td><td>2010-01-26 07:41:00.000000000</td><td>2010-01-26 07:45:00.000000000</td><td style=\"text-align: right;\">                1</td><td style=\"text-align: right;\">           0.75</td><td style=\"text-align: right;\">          -73.9568</td><td style=\"text-align: right;\">          40.7677</td><td style=\"text-align: right;\">           -73.966 </td><td style=\"text-align: right;\">           40.7652</td><td>CASH          </td><td style=\"text-align: right;\">          4.5</td><td style=\"text-align: right;\">        0   </td><td style=\"text-align: right;\">          5   </td><td style=\"text-align: right;\">            4      </td><td style=\"text-align: right;\">        11.25   </td><td style=\"text-align: right;\">                4</td><td style=\"text-align: right;\">            75</td><td style=\"text-align: right;\">               4</td><td style=\"text-align: right;\">          115</td><td style=\"text-align: right;\">            7</td><td style=\"text-align: right;\">                   1</td><td style=\"text-align: right;\">             0</td><td>False              </td><td style=\"text-align: right;\">      0.636034</td><td style=\"text-align: right;\">              0</td></tr>\n",
       "<tr><td><i style='opacity: 0.6'>1</i></td><td style=\"text-align: right;\">          2</td><td>2010-01-30 23:31:00.000000000</td><td>2010-01-30 23:46:12.000000000</td><td style=\"text-align: right;\">                1</td><td style=\"text-align: right;\">           5.9 </td><td style=\"text-align: right;\">          -73.9961</td><td style=\"text-align: right;\">          40.7639</td><td style=\"text-align: right;\">           -73.9815</td><td style=\"text-align: right;\">           40.7412</td><td>CASH          </td><td style=\"text-align: right;\">         15.3</td><td style=\"text-align: right;\">        0   </td><td style=\"text-align: right;\">         16.3 </td><td style=\"text-align: right;\">           15.2    </td><td style=\"text-align: right;\">        23.2895 </td><td style=\"text-align: right;\">                4</td><td style=\"text-align: right;\">           160</td><td style=\"text-align: right;\">               4</td><td style=\"text-align: right;\">          140</td><td style=\"text-align: right;\">           23</td><td style=\"text-align: right;\">                   5</td><td style=\"text-align: right;\">             0</td><td>True               </td><td style=\"text-align: right;\">      1.0983  </td><td style=\"text-align: right;\">              2</td></tr>\n",
       "<tr><td><i style='opacity: 0.6'>2</i></td><td style=\"text-align: right;\">          2</td><td>2010-01-18 20:22:20.000000000</td><td>2010-01-18 20:38:12.000000000</td><td style=\"text-align: right;\">                1</td><td style=\"text-align: right;\">           4   </td><td style=\"text-align: right;\">          -73.9797</td><td style=\"text-align: right;\">          40.7838</td><td style=\"text-align: right;\">           -73.9179</td><td style=\"text-align: right;\">           40.8786</td><td>CASH          </td><td style=\"text-align: right;\">         11.7</td><td style=\"text-align: right;\">        0   </td><td style=\"text-align: right;\">         12.7 </td><td style=\"text-align: right;\">           15.8667 </td><td style=\"text-align: right;\">        15.1261 </td><td style=\"text-align: right;\">                3</td><td style=\"text-align: right;\">           241</td><td style=\"text-align: right;\">               4</td><td style=\"text-align: right;\">          212</td><td style=\"text-align: right;\">           20</td><td style=\"text-align: right;\">                   0</td><td style=\"text-align: right;\">             0</td><td>False              </td><td style=\"text-align: right;\">      4.63933 </td><td style=\"text-align: right;\">              2</td></tr>\n",
       "<tr><td><i style='opacity: 0.6'>3</i></td><td style=\"text-align: right;\">          0</td><td>2010-01-09 01:18:00.000000000</td><td>2010-01-09 01:35:00.000000000</td><td style=\"text-align: right;\">                2</td><td style=\"text-align: right;\">           4.7 </td><td style=\"text-align: right;\">          -73.9779</td><td style=\"text-align: right;\">          40.764 </td><td style=\"text-align: right;\">           -73.9239</td><td style=\"text-align: right;\">           40.7597</td><td>CASH          </td><td style=\"text-align: right;\">         13.3</td><td style=\"text-align: right;\">        0   </td><td style=\"text-align: right;\">         14.3 </td><td style=\"text-align: right;\">           17      </td><td style=\"text-align: right;\">        16.5882 </td><td style=\"text-align: right;\">                0</td><td style=\"text-align: right;\">           103</td><td style=\"text-align: right;\">               4</td><td style=\"text-align: right;\">          117</td><td style=\"text-align: right;\">            1</td><td style=\"text-align: right;\">                   5</td><td style=\"text-align: right;\">             0</td><td>True               </td><td style=\"text-align: right;\">      3.73294 </td><td style=\"text-align: right;\">              0</td></tr>\n",
       "<tr><td><i style='opacity: 0.6'>4</i></td><td style=\"text-align: right;\">          1</td><td>2010-01-18 19:10:14.000000000</td><td>2010-01-18 19:17:07.000000000</td><td style=\"text-align: right;\">                1</td><td style=\"text-align: right;\">           0.6 </td><td style=\"text-align: right;\">          -73.9909</td><td style=\"text-align: right;\">          40.7347</td><td style=\"text-align: right;\">           -73.9955</td><td style=\"text-align: right;\">           40.7391</td><td>CRED          </td><td style=\"text-align: right;\">          5.3</td><td style=\"text-align: right;\">        0.87</td><td style=\"text-align: right;\">          6.67</td><td style=\"text-align: right;\">            6.88333</td><td style=\"text-align: right;\">         5.23002</td><td style=\"text-align: right;\">                4</td><td style=\"text-align: right;\">           217</td><td style=\"text-align: right;\">               4</td><td style=\"text-align: right;\">          177</td><td style=\"text-align: right;\">           19</td><td style=\"text-align: right;\">                   0</td><td style=\"text-align: right;\">             0</td><td>False              </td><td style=\"text-align: right;\">      0.327864</td><td style=\"text-align: right;\">              1</td></tr>\n",
       "<tr><td><i style='opacity: 0.6'>5</i></td><td style=\"text-align: right;\">          0</td><td>2010-01-17 09:18:00.000000000</td><td>2010-01-17 09:25:00.000000000</td><td style=\"text-align: right;\">                1</td><td style=\"text-align: right;\">           1.33</td><td style=\"text-align: right;\">          -73.9937</td><td style=\"text-align: right;\">          40.7549</td><td style=\"text-align: right;\">           -73.9847</td><td style=\"text-align: right;\">           40.7559</td><td>CASH          </td><td style=\"text-align: right;\">          6.1</td><td style=\"text-align: right;\">        0   </td><td style=\"text-align: right;\">          6.6 </td><td style=\"text-align: right;\">            7      </td><td style=\"text-align: right;\">        11.4    </td><td style=\"text-align: right;\">                4</td><td style=\"text-align: right;\">           234</td><td style=\"text-align: right;\">               4</td><td style=\"text-align: right;\">          150</td><td style=\"text-align: right;\">            9</td><td style=\"text-align: right;\">                   6</td><td style=\"text-align: right;\">             0</td><td>True               </td><td style=\"text-align: right;\">      0.624355</td><td style=\"text-align: right;\">              0</td></tr>\n",
       "<tr><td><i style='opacity: 0.6'>6</i></td><td style=\"text-align: right;\">          0</td><td>2010-01-09 13:49:00.000000000</td><td>2010-01-09 13:56:00.000000000</td><td style=\"text-align: right;\">                1</td><td style=\"text-align: right;\">           1.83</td><td style=\"text-align: right;\">          -73.971 </td><td style=\"text-align: right;\">          40.7513</td><td style=\"text-align: right;\">           -73.9906</td><td style=\"text-align: right;\">           40.7349</td><td>CASH          </td><td style=\"text-align: right;\">          6.9</td><td style=\"text-align: right;\">        0   </td><td style=\"text-align: right;\">          7.4 </td><td style=\"text-align: right;\">            7      </td><td style=\"text-align: right;\">        15.6857 </td><td style=\"text-align: right;\">                4</td><td style=\"text-align: right;\">           217</td><td style=\"text-align: right;\">               4</td><td style=\"text-align: right;\">          246</td><td style=\"text-align: right;\">           13</td><td style=\"text-align: right;\">                   5</td><td style=\"text-align: right;\">             0</td><td>True               </td><td style=\"text-align: right;\">      1.3851  </td><td style=\"text-align: right;\">              0</td></tr>\n",
       "<tr><td><i style='opacity: 0.6'>7</i></td><td style=\"text-align: right;\">          0</td><td>2010-01-09 00:25:00.000000000</td><td>2010-01-09 00:39:00.000000000</td><td style=\"text-align: right;\">                1</td><td style=\"text-align: right;\">           3.28</td><td style=\"text-align: right;\">          -73.99  </td><td style=\"text-align: right;\">          40.7256</td><td style=\"text-align: right;\">           -73.9938</td><td style=\"text-align: right;\">           40.7617</td><td>CASH          </td><td style=\"text-align: right;\">         11.3</td><td style=\"text-align: right;\">        0   </td><td style=\"text-align: right;\">         12.3 </td><td style=\"text-align: right;\">           14      </td><td style=\"text-align: right;\">        14.0571 </td><td style=\"text-align: right;\">                4</td><td style=\"text-align: right;\">           139</td><td style=\"text-align: right;\">               4</td><td style=\"text-align: right;\">           44</td><td style=\"text-align: right;\">            0</td><td style=\"text-align: right;\">                   5</td><td style=\"text-align: right;\">             0</td><td>True               </td><td style=\"text-align: right;\">      0.735747</td><td style=\"text-align: right;\">              0</td></tr>\n",
       "<tr><td><i style='opacity: 0.6'>8</i></td><td style=\"text-align: right;\">          0</td><td>2010-01-27 18:15:00.000000000</td><td>2010-01-27 18:29:00.000000000</td><td style=\"text-align: right;\">                1</td><td style=\"text-align: right;\">           1.42</td><td style=\"text-align: right;\">          -73.9796</td><td style=\"text-align: right;\">          40.7438</td><td style=\"text-align: right;\">           -73.9894</td><td style=\"text-align: right;\">           40.7568</td><td>CRED          </td><td style=\"text-align: right;\">          8.5</td><td style=\"text-align: right;\">        2   </td><td style=\"text-align: right;\">         12   </td><td style=\"text-align: right;\">           14      </td><td style=\"text-align: right;\">         6.08571</td><td style=\"text-align: right;\">                4</td><td style=\"text-align: right;\">            48</td><td style=\"text-align: right;\">               4</td><td style=\"text-align: right;\">          187</td><td style=\"text-align: right;\">           18</td><td style=\"text-align: right;\">                   2</td><td style=\"text-align: right;\">             0</td><td>False              </td><td style=\"text-align: right;\">      0.72058 </td><td style=\"text-align: right;\">              0</td></tr>\n",
       "<tr><td><i style='opacity: 0.6'>9</i></td><td style=\"text-align: right;\">          0</td><td>2010-01-08 16:05:00.000000000</td><td>2010-01-08 16:13:00.000000000</td><td style=\"text-align: right;\">                1</td><td style=\"text-align: right;\">           0.84</td><td style=\"text-align: right;\">          -74.0009</td><td style=\"text-align: right;\">          40.7573</td><td style=\"text-align: right;\">           -73.9898</td><td style=\"text-align: right;\">           40.7574</td><td>CRED          </td><td style=\"text-align: right;\">          5.7</td><td style=\"text-align: right;\">        3   </td><td style=\"text-align: right;\">         10.2 </td><td style=\"text-align: right;\">            8      </td><td style=\"text-align: right;\">         6.3    </td><td style=\"text-align: right;\">                4</td><td style=\"text-align: right;\">           139</td><td style=\"text-align: right;\">               4</td><td style=\"text-align: right;\">          255</td><td style=\"text-align: right;\">           16</td><td style=\"text-align: right;\">                   4</td><td style=\"text-align: right;\">             0</td><td>False              </td><td style=\"text-align: right;\">      0.770403</td><td style=\"text-align: right;\">              0</td></tr>\n",
       "</tbody>\n",
       "</table>"
      ],
      "text/plain": [
       "  #    vendor_id  pickup_datetime                dropoff_datetime                 passenger_count    trip_distance    pickup_longitude    pickup_latitude    dropoff_longitude    dropoff_latitude  payment_type      fare_amount    tip_amount    total_amount    trip_duration_min    trip_speed_mph    dropoff_borough    dropoff_zone    pickup_borough    pickup_zone    pickup_hour    pickup_day_of_week    pickup_month  pickup_is_weekend      arc_distance    vendor_id_new\n",
       "  0            0  2010-01-26 07:41:00.000000000  2010-01-26 07:45:00.000000000                  1             0.75            -73.9568            40.7677             -73.966              40.7652  CASH                      4.5          0               5                 4                11.25                     4              75                 4            115              7                     1               0  False                      0.636034                0\n",
       "  1            2  2010-01-30 23:31:00.000000000  2010-01-30 23:46:12.000000000                  1             5.9             -73.9961            40.7639             -73.9815             40.7412  CASH                     15.3          0              16.3              15.2              23.2895                   4             160                 4            140             23                     5               0  True                       1.0983                  2\n",
       "  2            2  2010-01-18 20:22:20.000000000  2010-01-18 20:38:12.000000000                  1             4               -73.9797            40.7838             -73.9179             40.8786  CASH                     11.7          0              12.7              15.8667           15.1261                   3             241                 4            212             20                     0               0  False                      4.63933                 2\n",
       "  3            0  2010-01-09 01:18:00.000000000  2010-01-09 01:35:00.000000000                  2             4.7             -73.9779            40.764              -73.9239             40.7597  CASH                     13.3          0              14.3              17                16.5882                   0             103                 4            117              1                     5               0  True                       3.73294                 0\n",
       "  4            1  2010-01-18 19:10:14.000000000  2010-01-18 19:17:07.000000000                  1             0.6             -73.9909            40.7347             -73.9955             40.7391  CRED                      5.3          0.87            6.67              6.88333           5.23002                  4             217                 4            177             19                     0               0  False                      0.327864                1\n",
       "  5            0  2010-01-17 09:18:00.000000000  2010-01-17 09:25:00.000000000                  1             1.33            -73.9937            40.7549             -73.9847             40.7559  CASH                      6.1          0               6.6               7                11.4                      4             234                 4            150              9                     6               0  True                       0.624355                0\n",
       "  6            0  2010-01-09 13:49:00.000000000  2010-01-09 13:56:00.000000000                  1             1.83            -73.971             40.7513             -73.9906             40.7349  CASH                      6.9          0               7.4               7                15.6857                   4             217                 4            246             13                     5               0  True                       1.3851                  0\n",
       "  7            0  2010-01-09 00:25:00.000000000  2010-01-09 00:39:00.000000000                  1             3.28            -73.99              40.7256             -73.9938             40.7617  CASH                     11.3          0              12.3              14                14.0571                   4             139                 4             44              0                     5               0  True                       0.735747                0\n",
       "  8            0  2010-01-27 18:15:00.000000000  2010-01-27 18:29:00.000000000                  1             1.42            -73.9796            40.7438             -73.9894             40.7568  CRED                      8.5          2              12                14                 6.08571                  4              48                 4            187             18                     2               0  False                      0.72058                 0\n",
       "  9            0  2010-01-08 16:05:00.000000000  2010-01-08 16:13:00.000000000                  1             0.84            -74.0009            40.7573             -73.9898             40.7574  CRED                      5.7          3              10.2               8                 6.3                      4             139                 4            255             16                     4               0  False                      0.770403                0"
      ]
     },
     "execution_count": 16,
     "metadata": {},
     "output_type": "execute_result"
    }
   ],
   "source": [
    "df.head()"
   ]
  },
  {
   "cell_type": "code",
   "execution_count": null,
   "id": "d540d957",
   "metadata": {},
   "outputs": [],
   "source": []
  },
  {
   "cell_type": "code",
   "execution_count": null,
   "id": "734eb2dd",
   "metadata": {},
   "outputs": [],
   "source": []
  },
  {
   "cell_type": "code",
   "execution_count": 19,
   "id": "b93c9557",
   "metadata": {},
   "outputs": [
    {
     "data": {
      "text/html": [
       "<table>\n",
       "<thead>\n",
       "<tr><th>#                            </th><th style=\"text-align: right;\">  vendor_id</th><th>pickup_datetime              </th><th>dropoff_datetime             </th><th style=\"text-align: right;\">  passenger_count</th><th style=\"text-align: right;\">  trip_distance</th><th style=\"text-align: right;\">  pickup_longitude</th><th style=\"text-align: right;\">  pickup_latitude</th><th style=\"text-align: right;\">  dropoff_longitude</th><th style=\"text-align: right;\">  dropoff_latitude</th><th>payment_type  </th><th style=\"text-align: right;\">  fare_amount</th><th style=\"text-align: right;\">  tip_amount</th><th style=\"text-align: right;\">  total_amount</th><th style=\"text-align: right;\">  trip_duration_min</th><th style=\"text-align: right;\">  trip_speed_mph</th><th style=\"text-align: right;\">  dropoff_borough</th><th style=\"text-align: right;\">  dropoff_zone</th><th style=\"text-align: right;\">  pickup_borough</th><th style=\"text-align: right;\">  pickup_zone</th><th style=\"text-align: right;\">  pickup_hour</th><th style=\"text-align: right;\">  pickup_day_of_week</th><th style=\"text-align: right;\">  pickup_month</th><th>pickup_is_weekend  </th><th style=\"text-align: right;\">  arc_distance</th><th style=\"text-align: right;\">  vendor_id_new</th></tr>\n",
       "</thead>\n",
       "<tbody>\n",
       "<tr><td><i style='opacity: 0.6'>0</i></td><td style=\"text-align: right;\">          0</td><td>2010-01-26 07:41:00.000000000</td><td>2010-01-26 07:45:00.000000000</td><td style=\"text-align: right;\">                1</td><td style=\"text-align: right;\">           0.75</td><td style=\"text-align: right;\">          -73.9568</td><td style=\"text-align: right;\">          40.7677</td><td style=\"text-align: right;\">           -73.966 </td><td style=\"text-align: right;\">           40.7652</td><td>CASH          </td><td style=\"text-align: right;\">          4.5</td><td style=\"text-align: right;\">        0   </td><td style=\"text-align: right;\">          5   </td><td style=\"text-align: right;\">            4      </td><td style=\"text-align: right;\">        11.25   </td><td style=\"text-align: right;\">                4</td><td style=\"text-align: right;\">            75</td><td style=\"text-align: right;\">               4</td><td style=\"text-align: right;\">          115</td><td style=\"text-align: right;\">            7</td><td style=\"text-align: right;\">                   1</td><td style=\"text-align: right;\">             1</td><td>False              </td><td style=\"text-align: right;\">      0.636034</td><td style=\"text-align: right;\">              0</td></tr>\n",
       "<tr><td><i style='opacity: 0.6'>1</i></td><td style=\"text-align: right;\">          2</td><td>2010-01-30 23:31:00.000000000</td><td>2010-01-30 23:46:12.000000000</td><td style=\"text-align: right;\">                1</td><td style=\"text-align: right;\">           5.9 </td><td style=\"text-align: right;\">          -73.9961</td><td style=\"text-align: right;\">          40.7639</td><td style=\"text-align: right;\">           -73.9815</td><td style=\"text-align: right;\">           40.7412</td><td>CASH          </td><td style=\"text-align: right;\">         15.3</td><td style=\"text-align: right;\">        0   </td><td style=\"text-align: right;\">         16.3 </td><td style=\"text-align: right;\">           15.2    </td><td style=\"text-align: right;\">        23.2895 </td><td style=\"text-align: right;\">                4</td><td style=\"text-align: right;\">           160</td><td style=\"text-align: right;\">               4</td><td style=\"text-align: right;\">          140</td><td style=\"text-align: right;\">           23</td><td style=\"text-align: right;\">                   5</td><td style=\"text-align: right;\">             1</td><td>True               </td><td style=\"text-align: right;\">      1.0983  </td><td style=\"text-align: right;\">              2</td></tr>\n",
       "<tr><td><i style='opacity: 0.6'>2</i></td><td style=\"text-align: right;\">          2</td><td>2010-01-18 20:22:20.000000000</td><td>2010-01-18 20:38:12.000000000</td><td style=\"text-align: right;\">                1</td><td style=\"text-align: right;\">           4   </td><td style=\"text-align: right;\">          -73.9797</td><td style=\"text-align: right;\">          40.7838</td><td style=\"text-align: right;\">           -73.9179</td><td style=\"text-align: right;\">           40.8786</td><td>CASH          </td><td style=\"text-align: right;\">         11.7</td><td style=\"text-align: right;\">        0   </td><td style=\"text-align: right;\">         12.7 </td><td style=\"text-align: right;\">           15.8667 </td><td style=\"text-align: right;\">        15.1261 </td><td style=\"text-align: right;\">                3</td><td style=\"text-align: right;\">           241</td><td style=\"text-align: right;\">               4</td><td style=\"text-align: right;\">          212</td><td style=\"text-align: right;\">           20</td><td style=\"text-align: right;\">                   0</td><td style=\"text-align: right;\">             1</td><td>False              </td><td style=\"text-align: right;\">      4.63933 </td><td style=\"text-align: right;\">              2</td></tr>\n",
       "<tr><td><i style='opacity: 0.6'>3</i></td><td style=\"text-align: right;\">          0</td><td>2010-01-09 01:18:00.000000000</td><td>2010-01-09 01:35:00.000000000</td><td style=\"text-align: right;\">                2</td><td style=\"text-align: right;\">           4.7 </td><td style=\"text-align: right;\">          -73.9779</td><td style=\"text-align: right;\">          40.764 </td><td style=\"text-align: right;\">           -73.9239</td><td style=\"text-align: right;\">           40.7597</td><td>CASH          </td><td style=\"text-align: right;\">         13.3</td><td style=\"text-align: right;\">        0   </td><td style=\"text-align: right;\">         14.3 </td><td style=\"text-align: right;\">           17      </td><td style=\"text-align: right;\">        16.5882 </td><td style=\"text-align: right;\">                0</td><td style=\"text-align: right;\">           103</td><td style=\"text-align: right;\">               4</td><td style=\"text-align: right;\">          117</td><td style=\"text-align: right;\">            1</td><td style=\"text-align: right;\">                   5</td><td style=\"text-align: right;\">             1</td><td>True               </td><td style=\"text-align: right;\">      3.73294 </td><td style=\"text-align: right;\">              0</td></tr>\n",
       "<tr><td><i style='opacity: 0.6'>4</i></td><td style=\"text-align: right;\">          1</td><td>2010-01-18 19:10:14.000000000</td><td>2010-01-18 19:17:07.000000000</td><td style=\"text-align: right;\">                1</td><td style=\"text-align: right;\">           0.6 </td><td style=\"text-align: right;\">          -73.9909</td><td style=\"text-align: right;\">          40.7347</td><td style=\"text-align: right;\">           -73.9955</td><td style=\"text-align: right;\">           40.7391</td><td>CRED          </td><td style=\"text-align: right;\">          5.3</td><td style=\"text-align: right;\">        0.87</td><td style=\"text-align: right;\">          6.67</td><td style=\"text-align: right;\">            6.88333</td><td style=\"text-align: right;\">         5.23002</td><td style=\"text-align: right;\">                4</td><td style=\"text-align: right;\">           217</td><td style=\"text-align: right;\">               4</td><td style=\"text-align: right;\">          177</td><td style=\"text-align: right;\">           19</td><td style=\"text-align: right;\">                   0</td><td style=\"text-align: right;\">             1</td><td>False              </td><td style=\"text-align: right;\">      0.327864</td><td style=\"text-align: right;\">              1</td></tr>\n",
       "<tr><td><i style='opacity: 0.6'>5</i></td><td style=\"text-align: right;\">          0</td><td>2010-01-17 09:18:00.000000000</td><td>2010-01-17 09:25:00.000000000</td><td style=\"text-align: right;\">                1</td><td style=\"text-align: right;\">           1.33</td><td style=\"text-align: right;\">          -73.9937</td><td style=\"text-align: right;\">          40.7549</td><td style=\"text-align: right;\">           -73.9847</td><td style=\"text-align: right;\">           40.7559</td><td>CASH          </td><td style=\"text-align: right;\">          6.1</td><td style=\"text-align: right;\">        0   </td><td style=\"text-align: right;\">          6.6 </td><td style=\"text-align: right;\">            7      </td><td style=\"text-align: right;\">        11.4    </td><td style=\"text-align: right;\">                4</td><td style=\"text-align: right;\">           234</td><td style=\"text-align: right;\">               4</td><td style=\"text-align: right;\">          150</td><td style=\"text-align: right;\">            9</td><td style=\"text-align: right;\">                   6</td><td style=\"text-align: right;\">             1</td><td>True               </td><td style=\"text-align: right;\">      0.624355</td><td style=\"text-align: right;\">              0</td></tr>\n",
       "<tr><td><i style='opacity: 0.6'>6</i></td><td style=\"text-align: right;\">          0</td><td>2010-01-09 13:49:00.000000000</td><td>2010-01-09 13:56:00.000000000</td><td style=\"text-align: right;\">                1</td><td style=\"text-align: right;\">           1.83</td><td style=\"text-align: right;\">          -73.971 </td><td style=\"text-align: right;\">          40.7513</td><td style=\"text-align: right;\">           -73.9906</td><td style=\"text-align: right;\">           40.7349</td><td>CASH          </td><td style=\"text-align: right;\">          6.9</td><td style=\"text-align: right;\">        0   </td><td style=\"text-align: right;\">          7.4 </td><td style=\"text-align: right;\">            7      </td><td style=\"text-align: right;\">        15.6857 </td><td style=\"text-align: right;\">                4</td><td style=\"text-align: right;\">           217</td><td style=\"text-align: right;\">               4</td><td style=\"text-align: right;\">          246</td><td style=\"text-align: right;\">           13</td><td style=\"text-align: right;\">                   5</td><td style=\"text-align: right;\">             1</td><td>True               </td><td style=\"text-align: right;\">      1.3851  </td><td style=\"text-align: right;\">              0</td></tr>\n",
       "<tr><td><i style='opacity: 0.6'>7</i></td><td style=\"text-align: right;\">          0</td><td>2010-01-09 00:25:00.000000000</td><td>2010-01-09 00:39:00.000000000</td><td style=\"text-align: right;\">                1</td><td style=\"text-align: right;\">           3.28</td><td style=\"text-align: right;\">          -73.99  </td><td style=\"text-align: right;\">          40.7256</td><td style=\"text-align: right;\">           -73.9938</td><td style=\"text-align: right;\">           40.7617</td><td>CASH          </td><td style=\"text-align: right;\">         11.3</td><td style=\"text-align: right;\">        0   </td><td style=\"text-align: right;\">         12.3 </td><td style=\"text-align: right;\">           14      </td><td style=\"text-align: right;\">        14.0571 </td><td style=\"text-align: right;\">                4</td><td style=\"text-align: right;\">           139</td><td style=\"text-align: right;\">               4</td><td style=\"text-align: right;\">           44</td><td style=\"text-align: right;\">            0</td><td style=\"text-align: right;\">                   5</td><td style=\"text-align: right;\">             1</td><td>True               </td><td style=\"text-align: right;\">      0.735747</td><td style=\"text-align: right;\">              0</td></tr>\n",
       "<tr><td><i style='opacity: 0.6'>8</i></td><td style=\"text-align: right;\">          0</td><td>2010-01-27 18:15:00.000000000</td><td>2010-01-27 18:29:00.000000000</td><td style=\"text-align: right;\">                1</td><td style=\"text-align: right;\">           1.42</td><td style=\"text-align: right;\">          -73.9796</td><td style=\"text-align: right;\">          40.7438</td><td style=\"text-align: right;\">           -73.9894</td><td style=\"text-align: right;\">           40.7568</td><td>CRED          </td><td style=\"text-align: right;\">          8.5</td><td style=\"text-align: right;\">        2   </td><td style=\"text-align: right;\">         12   </td><td style=\"text-align: right;\">           14      </td><td style=\"text-align: right;\">         6.08571</td><td style=\"text-align: right;\">                4</td><td style=\"text-align: right;\">            48</td><td style=\"text-align: right;\">               4</td><td style=\"text-align: right;\">          187</td><td style=\"text-align: right;\">           18</td><td style=\"text-align: right;\">                   2</td><td style=\"text-align: right;\">             1</td><td>False              </td><td style=\"text-align: right;\">      0.72058 </td><td style=\"text-align: right;\">              0</td></tr>\n",
       "<tr><td><i style='opacity: 0.6'>9</i></td><td style=\"text-align: right;\">          0</td><td>2010-01-08 16:05:00.000000000</td><td>2010-01-08 16:13:00.000000000</td><td style=\"text-align: right;\">                1</td><td style=\"text-align: right;\">           0.84</td><td style=\"text-align: right;\">          -74.0009</td><td style=\"text-align: right;\">          40.7573</td><td style=\"text-align: right;\">           -73.9898</td><td style=\"text-align: right;\">           40.7574</td><td>CRED          </td><td style=\"text-align: right;\">          5.7</td><td style=\"text-align: right;\">        3   </td><td style=\"text-align: right;\">         10.2 </td><td style=\"text-align: right;\">            8      </td><td style=\"text-align: right;\">         6.3    </td><td style=\"text-align: right;\">                4</td><td style=\"text-align: right;\">           139</td><td style=\"text-align: right;\">               4</td><td style=\"text-align: right;\">          255</td><td style=\"text-align: right;\">           16</td><td style=\"text-align: right;\">                   4</td><td style=\"text-align: right;\">             1</td><td>False              </td><td style=\"text-align: right;\">      0.770403</td><td style=\"text-align: right;\">              0</td></tr>\n",
       "</tbody>\n",
       "</table>"
      ],
      "text/plain": [
       "  #    vendor_id  pickup_datetime                dropoff_datetime                 passenger_count    trip_distance    pickup_longitude    pickup_latitude    dropoff_longitude    dropoff_latitude  payment_type      fare_amount    tip_amount    total_amount    trip_duration_min    trip_speed_mph    dropoff_borough    dropoff_zone    pickup_borough    pickup_zone    pickup_hour    pickup_day_of_week    pickup_month  pickup_is_weekend      arc_distance    vendor_id_new\n",
       "  0            0  2010-01-26 07:41:00.000000000  2010-01-26 07:45:00.000000000                  1             0.75            -73.9568            40.7677             -73.966              40.7652  CASH                      4.5          0               5                 4                11.25                     4              75                 4            115              7                     1               1  False                      0.636034                0\n",
       "  1            2  2010-01-30 23:31:00.000000000  2010-01-30 23:46:12.000000000                  1             5.9             -73.9961            40.7639             -73.9815             40.7412  CASH                     15.3          0              16.3              15.2              23.2895                   4             160                 4            140             23                     5               1  True                       1.0983                  2\n",
       "  2            2  2010-01-18 20:22:20.000000000  2010-01-18 20:38:12.000000000                  1             4               -73.9797            40.7838             -73.9179             40.8786  CASH                     11.7          0              12.7              15.8667           15.1261                   3             241                 4            212             20                     0               1  False                      4.63933                 2\n",
       "  3            0  2010-01-09 01:18:00.000000000  2010-01-09 01:35:00.000000000                  2             4.7             -73.9779            40.764              -73.9239             40.7597  CASH                     13.3          0              14.3              17                16.5882                   0             103                 4            117              1                     5               1  True                       3.73294                 0\n",
       "  4            1  2010-01-18 19:10:14.000000000  2010-01-18 19:17:07.000000000                  1             0.6             -73.9909            40.7347             -73.9955             40.7391  CRED                      5.3          0.87            6.67              6.88333           5.23002                  4             217                 4            177             19                     0               1  False                      0.327864                1\n",
       "  5            0  2010-01-17 09:18:00.000000000  2010-01-17 09:25:00.000000000                  1             1.33            -73.9937            40.7549             -73.9847             40.7559  CASH                      6.1          0               6.6               7                11.4                      4             234                 4            150              9                     6               1  True                       0.624355                0\n",
       "  6            0  2010-01-09 13:49:00.000000000  2010-01-09 13:56:00.000000000                  1             1.83            -73.971             40.7513             -73.9906             40.7349  CASH                      6.9          0               7.4               7                15.6857                   4             217                 4            246             13                     5               1  True                       1.3851                  0\n",
       "  7            0  2010-01-09 00:25:00.000000000  2010-01-09 00:39:00.000000000                  1             3.28            -73.99              40.7256             -73.9938             40.7617  CASH                     11.3          0              12.3              14                14.0571                   4             139                 4             44              0                     5               1  True                       0.735747                0\n",
       "  8            0  2010-01-27 18:15:00.000000000  2010-01-27 18:29:00.000000000                  1             1.42            -73.9796            40.7438             -73.9894             40.7568  CRED                      8.5          2              12                14                 6.08571                  4              48                 4            187             18                     2               1  False                      0.72058                 0\n",
       "  9            0  2010-01-08 16:05:00.000000000  2010-01-08 16:13:00.000000000                  1             0.84            -74.0009            40.7573             -73.9898             40.7574  CRED                      5.7          3              10.2               8                 6.3                      4             139                 4            255             16                     4               1  False                      0.770403                0"
      ]
     },
     "execution_count": 19,
     "metadata": {},
     "output_type": "execute_result"
    }
   ],
   "source": [
    "df['pickup_month'] = df.pickup_datetime.dt.month\n",
    "df.head()"
   ]
  },
  {
   "cell_type": "code",
   "execution_count": null,
   "id": "e0e8b1cf",
   "metadata": {},
   "outputs": [],
   "source": []
  },
  {
   "cell_type": "code",
   "execution_count": null,
   "id": "64c3b0ec",
   "metadata": {},
   "outputs": [],
   "source": []
  },
  {
   "cell_type": "code",
   "execution_count": null,
   "id": "e63a3917",
   "metadata": {},
   "outputs": [],
   "source": [
    "df = df.sort(by=['pickup_zone', 'pickup_longitude', 'pickup_latitude'])"
   ]
  },
  {
   "cell_type": "code",
   "execution_count": null,
   "id": "633950cf",
   "metadata": {},
   "outputs": [],
   "source": [
    "df.export_hdf5('yellow_tripdata_2010.hdf5', progress=True)"
   ]
  },
  {
   "cell_type": "code",
   "execution_count": null,
   "id": "cc630f5c",
   "metadata": {},
   "outputs": [],
   "source": []
  },
  {
   "cell_type": "code",
   "execution_count": null,
   "id": "5f823d35",
   "metadata": {},
   "outputs": [],
   "source": []
  },
  {
   "cell_type": "code",
   "execution_count": null,
   "id": "a9156626",
   "metadata": {},
   "outputs": [],
   "source": []
  },
  {
   "cell_type": "code",
   "execution_count": null,
   "id": "abea2626",
   "metadata": {},
   "outputs": [],
   "source": []
  },
  {
   "cell_type": "code",
   "execution_count": null,
   "id": "8c5a3326",
   "metadata": {},
   "outputs": [],
   "source": [
    "\n"
   ]
  }
 ],
 "metadata": {
  "kernelspec": {
   "display_name": "Python 3 (ipykernel)",
   "language": "python",
   "name": "python3"
  },
  "language_info": {
   "codemirror_mode": {
    "name": "ipython",
    "version": 3
   },
   "file_extension": ".py",
   "mimetype": "text/x-python",
   "name": "python",
   "nbconvert_exporter": "python",
   "pygments_lexer": "ipython3",
   "version": "3.9.12"
  }
 },
 "nbformat": 4,
 "nbformat_minor": 5
}
