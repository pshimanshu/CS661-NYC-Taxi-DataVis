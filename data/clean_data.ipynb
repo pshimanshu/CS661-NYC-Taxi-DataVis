{
 "cells": [
  {
   "cell_type": "code",
   "execution_count": 1,
   "id": "4a64ee49",
   "metadata": {},
   "outputs": [],
   "source": [
    "import vaex\n",
    "# from vaex.ui.colormaps import cm_plusmin\n",
    "\n",
    "import numpy as np\n",
    "import pylab as plt\n",
    "import seaborn as sns\n",
    "\n",
    "import warnings\n",
    "warnings.filterwarnings(\"ignore\")\n",
    "import ipywidgets as widgets\n"
   ]
  },
  {
   "cell_type": "code",
   "execution_count": null,
   "id": "25b42544",
   "metadata": {},
   "outputs": [],
   "source": []
  },
  {
   "cell_type": "code",
   "execution_count": null,
   "id": "36f0e631",
   "metadata": {},
   "outputs": [],
   "source": []
  },
  {
   "cell_type": "code",
   "execution_count": 2,
   "id": "c7941d92",
   "metadata": {},
   "outputs": [],
   "source": [
    "df = vaex.open('yellow_tripdata_2010_raw.hdf5', progress=True)"
   ]
  },
  {
   "cell_type": "code",
   "execution_count": 3,
   "id": "ebefd2f7",
   "metadata": {},
   "outputs": [
    {
     "data": {
      "text/html": [
       "<table>\n",
       "<thead>\n",
       "<tr><th>#                            </th><th>vendor_id  </th><th>pickup_datetime    </th><th>dropoff_datetime   </th><th style=\"text-align: right;\">  passenger_count</th><th style=\"text-align: right;\">  trip_distance</th><th style=\"text-align: right;\">  pickup_longitude</th><th style=\"text-align: right;\">  pickup_latitude</th><th style=\"text-align: right;\">  rate_code</th><th>store_and_fwd_flag  </th><th style=\"text-align: right;\">  dropoff_longitude</th><th style=\"text-align: right;\">  dropoff_latitude</th><th>payment_type  </th><th style=\"text-align: right;\">  fare_amount</th><th style=\"text-align: right;\">  surcharge</th><th style=\"text-align: right;\">  mta_tax</th><th style=\"text-align: right;\">  tip_amount</th><th style=\"text-align: right;\">  tolls_amount</th><th style=\"text-align: right;\">  total_amount</th></tr>\n",
       "</thead>\n",
       "<tbody>\n",
       "<tr><td><i style='opacity: 0.6'>0</i></td><td>VTS        </td><td>2010-01-26 07:41:00</td><td>2010-01-26 07:45:00</td><td style=\"text-align: right;\">                1</td><td style=\"text-align: right;\">           0.75</td><td style=\"text-align: right;\">          -73.9568</td><td style=\"text-align: right;\">          40.7677</td><td style=\"text-align: right;\">          1</td><td>--                  </td><td style=\"text-align: right;\">           -73.966 </td><td style=\"text-align: right;\">           40.7652</td><td>CAS           </td><td style=\"text-align: right;\">          4.5</td><td style=\"text-align: right;\">        0  </td><td style=\"text-align: right;\">      0.5</td><td style=\"text-align: right;\">        0   </td><td style=\"text-align: right;\">             0</td><td style=\"text-align: right;\">          5   </td></tr>\n",
       "<tr><td><i style='opacity: 0.6'>1</i></td><td>DDS        </td><td>2010-01-30 23:31:00</td><td>2010-01-30 23:46:12</td><td style=\"text-align: right;\">                1</td><td style=\"text-align: right;\">           5.9 </td><td style=\"text-align: right;\">          -73.9961</td><td style=\"text-align: right;\">          40.7639</td><td style=\"text-align: right;\">          1</td><td>--                  </td><td style=\"text-align: right;\">           -73.9815</td><td style=\"text-align: right;\">           40.7412</td><td>CAS           </td><td style=\"text-align: right;\">         15.3</td><td style=\"text-align: right;\">        0.5</td><td style=\"text-align: right;\">      0.5</td><td style=\"text-align: right;\">        0   </td><td style=\"text-align: right;\">             0</td><td style=\"text-align: right;\">         16.3 </td></tr>\n",
       "<tr><td><i style='opacity: 0.6'>2</i></td><td>DDS        </td><td>2010-01-18 20:22:20</td><td>2010-01-18 20:38:12</td><td style=\"text-align: right;\">                1</td><td style=\"text-align: right;\">           4   </td><td style=\"text-align: right;\">          -73.9797</td><td style=\"text-align: right;\">          40.7838</td><td style=\"text-align: right;\">          1</td><td>--                  </td><td style=\"text-align: right;\">           -73.9179</td><td style=\"text-align: right;\">           40.8786</td><td>CAS           </td><td style=\"text-align: right;\">         11.7</td><td style=\"text-align: right;\">        0.5</td><td style=\"text-align: right;\">      0.5</td><td style=\"text-align: right;\">        0   </td><td style=\"text-align: right;\">             0</td><td style=\"text-align: right;\">         12.7 </td></tr>\n",
       "<tr><td><i style='opacity: 0.6'>3</i></td><td>VTS        </td><td>2010-01-09 01:18:00</td><td>2010-01-09 01:35:00</td><td style=\"text-align: right;\">                2</td><td style=\"text-align: right;\">           4.7 </td><td style=\"text-align: right;\">          -73.9779</td><td style=\"text-align: right;\">          40.764 </td><td style=\"text-align: right;\">          1</td><td>--                  </td><td style=\"text-align: right;\">           -73.9239</td><td style=\"text-align: right;\">           40.7597</td><td>CAS           </td><td style=\"text-align: right;\">         13.3</td><td style=\"text-align: right;\">        0.5</td><td style=\"text-align: right;\">      0.5</td><td style=\"text-align: right;\">        0   </td><td style=\"text-align: right;\">             0</td><td style=\"text-align: right;\">         14.3 </td></tr>\n",
       "<tr><td><i style='opacity: 0.6'>4</i></td><td>CMT        </td><td>2010-01-18 19:10:14</td><td>2010-01-18 19:17:07</td><td style=\"text-align: right;\">                1</td><td style=\"text-align: right;\">           0.6 </td><td style=\"text-align: right;\">          -73.9909</td><td style=\"text-align: right;\">          40.7347</td><td style=\"text-align: right;\">          1</td><td>0                   </td><td style=\"text-align: right;\">           -73.9955</td><td style=\"text-align: right;\">           40.7391</td><td>Cre           </td><td style=\"text-align: right;\">          5.3</td><td style=\"text-align: right;\">        0  </td><td style=\"text-align: right;\">      0.5</td><td style=\"text-align: right;\">        0.87</td><td style=\"text-align: right;\">             0</td><td style=\"text-align: right;\">          6.67</td></tr>\n",
       "<tr><td><i style='opacity: 0.6'>5</i></td><td>DDS        </td><td>2010-01-23 18:40:25</td><td>2010-01-23 18:54:51</td><td style=\"text-align: right;\">                1</td><td style=\"text-align: right;\">           3.3 </td><td style=\"text-align: right;\">            0     </td><td style=\"text-align: right;\">           0     </td><td style=\"text-align: right;\">          1</td><td>--                  </td><td style=\"text-align: right;\">             0     </td><td style=\"text-align: right;\">            0     </td><td>CRE           </td><td style=\"text-align: right;\">         10.5</td><td style=\"text-align: right;\">        0  </td><td style=\"text-align: right;\">      0.5</td><td style=\"text-align: right;\">        1   </td><td style=\"text-align: right;\">             0</td><td style=\"text-align: right;\">         12   </td></tr>\n",
       "<tr><td><i style='opacity: 0.6'>6</i></td><td>VTS        </td><td>2010-01-17 09:18:00</td><td>2010-01-17 09:25:00</td><td style=\"text-align: right;\">                1</td><td style=\"text-align: right;\">           1.33</td><td style=\"text-align: right;\">          -73.9937</td><td style=\"text-align: right;\">          40.7549</td><td style=\"text-align: right;\">          1</td><td>--                  </td><td style=\"text-align: right;\">           -73.9847</td><td style=\"text-align: right;\">           40.7559</td><td>CAS           </td><td style=\"text-align: right;\">          6.1</td><td style=\"text-align: right;\">        0  </td><td style=\"text-align: right;\">      0.5</td><td style=\"text-align: right;\">        0   </td><td style=\"text-align: right;\">             0</td><td style=\"text-align: right;\">          6.6 </td></tr>\n",
       "<tr><td><i style='opacity: 0.6'>7</i></td><td>VTS        </td><td>2010-01-09 13:49:00</td><td>2010-01-09 13:56:00</td><td style=\"text-align: right;\">                1</td><td style=\"text-align: right;\">           1.83</td><td style=\"text-align: right;\">          -73.971 </td><td style=\"text-align: right;\">          40.7513</td><td style=\"text-align: right;\">          1</td><td>--                  </td><td style=\"text-align: right;\">           -73.9906</td><td style=\"text-align: right;\">           40.7349</td><td>CAS           </td><td style=\"text-align: right;\">          6.9</td><td style=\"text-align: right;\">        0  </td><td style=\"text-align: right;\">      0.5</td><td style=\"text-align: right;\">        0   </td><td style=\"text-align: right;\">             0</td><td style=\"text-align: right;\">          7.4 </td></tr>\n",
       "<tr><td><i style='opacity: 0.6'>8</i></td><td>VTS        </td><td>2010-01-09 00:25:00</td><td>2010-01-09 00:39:00</td><td style=\"text-align: right;\">                1</td><td style=\"text-align: right;\">           3.28</td><td style=\"text-align: right;\">          -73.99  </td><td style=\"text-align: right;\">          40.7256</td><td style=\"text-align: right;\">          1</td><td>--                  </td><td style=\"text-align: right;\">           -73.9938</td><td style=\"text-align: right;\">           40.7617</td><td>CAS           </td><td style=\"text-align: right;\">         11.3</td><td style=\"text-align: right;\">        0.5</td><td style=\"text-align: right;\">      0.5</td><td style=\"text-align: right;\">        0   </td><td style=\"text-align: right;\">             0</td><td style=\"text-align: right;\">         12.3 </td></tr>\n",
       "<tr><td><i style='opacity: 0.6'>9</i></td><td>VTS        </td><td>2010-01-27 18:15:00</td><td>2010-01-27 18:29:00</td><td style=\"text-align: right;\">                1</td><td style=\"text-align: right;\">           1.42</td><td style=\"text-align: right;\">          -73.9796</td><td style=\"text-align: right;\">          40.7438</td><td style=\"text-align: right;\">          1</td><td>--                  </td><td style=\"text-align: right;\">           -73.9894</td><td style=\"text-align: right;\">           40.7568</td><td>Cre           </td><td style=\"text-align: right;\">          8.5</td><td style=\"text-align: right;\">        1  </td><td style=\"text-align: right;\">      0.5</td><td style=\"text-align: right;\">        2   </td><td style=\"text-align: right;\">             0</td><td style=\"text-align: right;\">         12   </td></tr>\n",
       "</tbody>\n",
       "</table>"
      ],
      "text/plain": [
       "  #  vendor_id    pickup_datetime      dropoff_datetime       passenger_count    trip_distance    pickup_longitude    pickup_latitude    rate_code  store_and_fwd_flag      dropoff_longitude    dropoff_latitude  payment_type      fare_amount    surcharge    mta_tax    tip_amount    tolls_amount    total_amount\n",
       "  0  VTS          2010-01-26 07:41:00  2010-01-26 07:45:00                  1             0.75            -73.9568            40.7677            1  --                               -73.966              40.7652  CAS                       4.5          0          0.5          0                  0            5\n",
       "  1  DDS          2010-01-30 23:31:00  2010-01-30 23:46:12                  1             5.9             -73.9961            40.7639            1  --                               -73.9815             40.7412  CAS                      15.3          0.5        0.5          0                  0           16.3\n",
       "  2  DDS          2010-01-18 20:22:20  2010-01-18 20:38:12                  1             4               -73.9797            40.7838            1  --                               -73.9179             40.8786  CAS                      11.7          0.5        0.5          0                  0           12.7\n",
       "  3  VTS          2010-01-09 01:18:00  2010-01-09 01:35:00                  2             4.7             -73.9779            40.764             1  --                               -73.9239             40.7597  CAS                      13.3          0.5        0.5          0                  0           14.3\n",
       "  4  CMT          2010-01-18 19:10:14  2010-01-18 19:17:07                  1             0.6             -73.9909            40.7347            1  0                                -73.9955             40.7391  Cre                       5.3          0          0.5          0.87               0            6.67\n",
       "  5  DDS          2010-01-23 18:40:25  2010-01-23 18:54:51                  1             3.3               0                  0                 1  --                                 0                   0       CRE                      10.5          0          0.5          1                  0           12\n",
       "  6  VTS          2010-01-17 09:18:00  2010-01-17 09:25:00                  1             1.33            -73.9937            40.7549            1  --                               -73.9847             40.7559  CAS                       6.1          0          0.5          0                  0            6.6\n",
       "  7  VTS          2010-01-09 13:49:00  2010-01-09 13:56:00                  1             1.83            -73.971             40.7513            1  --                               -73.9906             40.7349  CAS                       6.9          0          0.5          0                  0            7.4\n",
       "  8  VTS          2010-01-09 00:25:00  2010-01-09 00:39:00                  1             3.28            -73.99              40.7256            1  --                               -73.9938             40.7617  CAS                      11.3          0.5        0.5          0                  0           12.3\n",
       "  9  VTS          2010-01-27 18:15:00  2010-01-27 18:29:00                  1             1.42            -73.9796            40.7438            1  --                               -73.9894             40.7568  Cre                       8.5          1          0.5          2                  0           12"
      ]
     },
     "execution_count": 3,
     "metadata": {},
     "output_type": "execute_result"
    }
   ],
   "source": [
    "df.head()"
   ]
  },
  {
   "cell_type": "code",
   "execution_count": null,
   "id": "f16b91f0",
   "metadata": {},
   "outputs": [],
   "source": []
  },
  {
   "cell_type": "code",
   "execution_count": 4,
   "id": "c0d97c6b",
   "metadata": {},
   "outputs": [
    {
     "data": {
      "text/plain": [
       "(169001162, 18)"
      ]
     },
     "execution_count": 4,
     "metadata": {},
     "output_type": "execute_result"
    }
   ],
   "source": [
    "df.shape"
   ]
  },
  {
   "cell_type": "code",
   "execution_count": 5,
   "id": "b627fe7e",
   "metadata": {},
   "outputs": [
    {
     "data": {
      "text/html": [
       "<div>\n",
       "<style scoped>\n",
       "    .dataframe tbody tr th:only-of-type {\n",
       "        vertical-align: middle;\n",
       "    }\n",
       "\n",
       "    .dataframe tbody tr th {\n",
       "        vertical-align: top;\n",
       "    }\n",
       "\n",
       "    .dataframe thead th {\n",
       "        text-align: right;\n",
       "    }\n",
       "</style>\n",
       "<table border=\"1\" class=\"dataframe\">\n",
       "  <thead>\n",
       "    <tr style=\"text-align: right;\">\n",
       "      <th></th>\n",
       "      <th>vendor_id</th>\n",
       "      <th>pickup_datetime</th>\n",
       "      <th>dropoff_datetime</th>\n",
       "      <th>passenger_count</th>\n",
       "      <th>trip_distance</th>\n",
       "      <th>pickup_longitude</th>\n",
       "      <th>pickup_latitude</th>\n",
       "      <th>rate_code</th>\n",
       "      <th>store_and_fwd_flag</th>\n",
       "      <th>dropoff_longitude</th>\n",
       "      <th>dropoff_latitude</th>\n",
       "      <th>payment_type</th>\n",
       "      <th>fare_amount</th>\n",
       "      <th>surcharge</th>\n",
       "      <th>mta_tax</th>\n",
       "      <th>tip_amount</th>\n",
       "      <th>tolls_amount</th>\n",
       "      <th>total_amount</th>\n",
       "    </tr>\n",
       "  </thead>\n",
       "  <tbody>\n",
       "    <tr>\n",
       "      <th>data_type</th>\n",
       "      <td>string</td>\n",
       "      <td>large_string</td>\n",
       "      <td>large_string</td>\n",
       "      <td>int64</td>\n",
       "      <td>float64</td>\n",
       "      <td>float64</td>\n",
       "      <td>float64</td>\n",
       "      <td>int64</td>\n",
       "      <td>string</td>\n",
       "      <td>float64</td>\n",
       "      <td>float64</td>\n",
       "      <td>string</td>\n",
       "      <td>float64</td>\n",
       "      <td>float64</td>\n",
       "      <td>float64</td>\n",
       "      <td>float64</td>\n",
       "      <td>float64</td>\n",
       "      <td>float64</td>\n",
       "    </tr>\n",
       "    <tr>\n",
       "      <th>count</th>\n",
       "      <td>169001162</td>\n",
       "      <td>169001162</td>\n",
       "      <td>169001162</td>\n",
       "      <td>169001162</td>\n",
       "      <td>169001162</td>\n",
       "      <td>169001162</td>\n",
       "      <td>169001162</td>\n",
       "      <td>169001162</td>\n",
       "      <td>91692478</td>\n",
       "      <td>169001052</td>\n",
       "      <td>169001052</td>\n",
       "      <td>169001162</td>\n",
       "      <td>169001162</td>\n",
       "      <td>169001162</td>\n",
       "      <td>169001162</td>\n",
       "      <td>169001162</td>\n",
       "      <td>169001162</td>\n",
       "      <td>169001162</td>\n",
       "    </tr>\n",
       "    <tr>\n",
       "      <th>NA</th>\n",
       "      <td>0</td>\n",
       "      <td>0</td>\n",
       "      <td>0</td>\n",
       "      <td>0</td>\n",
       "      <td>0</td>\n",
       "      <td>0</td>\n",
       "      <td>0</td>\n",
       "      <td>0</td>\n",
       "      <td>77308684</td>\n",
       "      <td>110</td>\n",
       "      <td>110</td>\n",
       "      <td>0</td>\n",
       "      <td>0</td>\n",
       "      <td>0</td>\n",
       "      <td>0</td>\n",
       "      <td>0</td>\n",
       "      <td>0</td>\n",
       "      <td>0</td>\n",
       "    </tr>\n",
       "    <tr>\n",
       "      <th>mean</th>\n",
       "      <td>--</td>\n",
       "      <td>--</td>\n",
       "      <td>--</td>\n",
       "      <td>1.6742042400868227</td>\n",
       "      <td>5.86454007162288</td>\n",
       "      <td>-72.39052852493019</td>\n",
       "      <td>39.883481894183376</td>\n",
       "      <td>1.032169979991025</td>\n",
       "      <td>--</td>\n",
       "      <td>-72.41656281123211</td>\n",
       "      <td>39.89817774491396</td>\n",
       "      <td>--</td>\n",
       "      <td>9.844571014700573</td>\n",
       "      <td>0.3221659105515499</td>\n",
       "      <td>0.49559359911383327</td>\n",
       "      <td>0.7605344939584685</td>\n",
       "      <td>-0.07494990750359631</td>\n",
       "      <td>11.351037571271688</td>\n",
       "    </tr>\n",
       "    <tr>\n",
       "      <th>std</th>\n",
       "      <td>--</td>\n",
       "      <td>--</td>\n",
       "      <td>--</td>\n",
       "      <td>1.300649</td>\n",
       "      <td>5409.284881</td>\n",
       "      <td>11.023202</td>\n",
       "      <td>7.053551</td>\n",
       "      <td>0.362228</td>\n",
       "      <td>--</td>\n",
       "      <td>10.898912</td>\n",
       "      <td>7.027077</td>\n",
       "      <td>--</td>\n",
       "      <td>1664.81399</td>\n",
       "      <td>0.369349</td>\n",
       "      <td>0.134548</td>\n",
       "      <td>173.537761</td>\n",
       "      <td>2336.14672</td>\n",
       "      <td>2873.904046</td>\n",
       "    </tr>\n",
       "    <tr>\n",
       "      <th>min</th>\n",
       "      <td>--</td>\n",
       "      <td>--</td>\n",
       "      <td>--</td>\n",
       "      <td>0</td>\n",
       "      <td>-21474834.0</td>\n",
       "      <td>-3509.015037</td>\n",
       "      <td>-3579.139413</td>\n",
       "      <td>0</td>\n",
       "      <td>--</td>\n",
       "      <td>-3579.139413</td>\n",
       "      <td>-3538.432385</td>\n",
       "      <td>--</td>\n",
       "      <td>-21474808.0</td>\n",
       "      <td>-1.0</td>\n",
       "      <td>-1.0</td>\n",
       "      <td>-1677720.1</td>\n",
       "      <td>-21474836.0</td>\n",
       "      <td>-21474830.0</td>\n",
       "    </tr>\n",
       "    <tr>\n",
       "      <th>max</th>\n",
       "      <td>--</td>\n",
       "      <td>--</td>\n",
       "      <td>--</td>\n",
       "      <td>255</td>\n",
       "      <td>16201631.4</td>\n",
       "      <td>3569.93085</td>\n",
       "      <td>3377.993335</td>\n",
       "      <td>128</td>\n",
       "      <td>--</td>\n",
       "      <td>3443.651487</td>\n",
       "      <td>3510.380667</td>\n",
       "      <td>--</td>\n",
       "      <td>93960.07</td>\n",
       "      <td>615.78</td>\n",
       "      <td>1311.22</td>\n",
       "      <td>938.02</td>\n",
       "      <td>5510.07</td>\n",
       "      <td>93960.57</td>\n",
       "    </tr>\n",
       "  </tbody>\n",
       "</table>\n",
       "</div>"
      ],
      "text/plain": [
       "           vendor_id pickup_datetime dropoff_datetime     passenger_count  \\\n",
       "data_type     string    large_string     large_string               int64   \n",
       "count      169001162       169001162        169001162           169001162   \n",
       "NA                 0               0                0                   0   \n",
       "mean              --              --               --  1.6742042400868227   \n",
       "std               --              --               --            1.300649   \n",
       "min               --              --               --                   0   \n",
       "max               --              --               --                 255   \n",
       "\n",
       "              trip_distance    pickup_longitude     pickup_latitude  \\\n",
       "data_type           float64             float64             float64   \n",
       "count             169001162           169001162           169001162   \n",
       "NA                        0                   0                   0   \n",
       "mean       5.86454007162288  -72.39052852493019  39.883481894183376   \n",
       "std             5409.284881           11.023202            7.053551   \n",
       "min             -21474834.0        -3509.015037        -3579.139413   \n",
       "max              16201631.4          3569.93085         3377.993335   \n",
       "\n",
       "                   rate_code store_and_fwd_flag   dropoff_longitude  \\\n",
       "data_type              int64             string             float64   \n",
       "count              169001162           91692478           169001052   \n",
       "NA                         0           77308684                 110   \n",
       "mean       1.032169979991025                 --  -72.41656281123211   \n",
       "std                 0.362228                 --           10.898912   \n",
       "min                        0                 --        -3579.139413   \n",
       "max                      128                 --         3443.651487   \n",
       "\n",
       "            dropoff_latitude payment_type        fare_amount  \\\n",
       "data_type            float64       string            float64   \n",
       "count              169001052    169001162          169001162   \n",
       "NA                       110            0                  0   \n",
       "mean       39.89817774491396           --  9.844571014700573   \n",
       "std                 7.027077           --         1664.81399   \n",
       "min             -3538.432385           --        -21474808.0   \n",
       "max              3510.380667           --           93960.07   \n",
       "\n",
       "                    surcharge              mta_tax          tip_amount  \\\n",
       "data_type             float64              float64             float64   \n",
       "count               169001162            169001162           169001162   \n",
       "NA                          0                    0                   0   \n",
       "mean       0.3221659105515499  0.49559359911383327  0.7605344939584685   \n",
       "std                  0.369349             0.134548          173.537761   \n",
       "min                      -1.0                 -1.0          -1677720.1   \n",
       "max                    615.78              1311.22              938.02   \n",
       "\n",
       "                   tolls_amount        total_amount  \n",
       "data_type               float64             float64  \n",
       "count                 169001162           169001162  \n",
       "NA                            0                   0  \n",
       "mean       -0.07494990750359631  11.351037571271688  \n",
       "std                  2336.14672         2873.904046  \n",
       "min                 -21474836.0         -21474830.0  \n",
       "max                     5510.07            93960.57  "
      ]
     },
     "execution_count": 5,
     "metadata": {},
     "output_type": "execute_result"
    }
   ],
   "source": [
    "df.describe()"
   ]
  },
  {
   "cell_type": "code",
   "execution_count": null,
   "id": "4a9739f7",
   "metadata": {},
   "outputs": [],
   "source": []
  },
  {
   "cell_type": "markdown",
   "id": "a2767517",
   "metadata": {},
   "source": [
    "### Payment Types"
   ]
  },
  {
   "cell_type": "code",
   "execution_count": 6,
   "id": "37ea1ed4",
   "metadata": {},
   "outputs": [
    {
     "data": {
      "text/plain": [
       "CSH    50210641\n",
       "CRD    30829647\n",
       "CAS    30792977\n",
       "Cre    27416855\n",
       "Cas    26058725\n",
       "CRE     3370093\n",
       "No       200505\n",
       "Dis       43614\n",
       "NA        40013\n",
       "NOC       31817\n",
       "DIS        6275\n",
       "dtype: int64"
      ]
     },
     "execution_count": 6,
     "metadata": {},
     "output_type": "execute_result"
    }
   ],
   "source": [
    "df['payment_type'].value_counts()"
   ]
  },
  {
   "cell_type": "code",
   "execution_count": 7,
   "id": "4af11686",
   "metadata": {},
   "outputs": [],
   "source": [
    "# change all values of cash and credit to 0 and 1\n",
    "# and remove all other rows\n",
    "\n",
    "def new_payment_type(pt):\n",
    "    if pt in ['CSH', 'CAS', 'Cas']:\n",
    "        return 'CASH'\n",
    "    elif pt in ['CRD', 'Cre', 'CRE']:\n",
    "        return 'CRED'\n",
    "    else:\n",
    "        return 'UNKN'\n",
    "\n",
    "df['payment_type'] = df['payment_type'].apply(new_payment_type)\n"
   ]
  },
  {
   "cell_type": "code",
   "execution_count": 8,
   "id": "cc3985eb",
   "metadata": {},
   "outputs": [],
   "source": [
    "df = df[(df.payment_type == 'CASH') | (df.payment_type == 'CRED')]"
   ]
  },
  {
   "cell_type": "code",
   "execution_count": 9,
   "id": "94d5e4ae",
   "metadata": {},
   "outputs": [
    {
     "data": {
      "text/plain": [
       "CASH    107062343\n",
       "CRED     61616595\n",
       "dtype: int64"
      ]
     },
     "execution_count": 9,
     "metadata": {},
     "output_type": "execute_result"
    }
   ],
   "source": [
    "df['payment_type'].value_counts()"
   ]
  },
  {
   "cell_type": "code",
   "execution_count": 10,
   "id": "be7c29af",
   "metadata": {},
   "outputs": [
    {
     "name": "stdout",
     "output_type": "stream",
     "text": [
      "Dataframe shape after filtering payment type:  168678938\n"
     ]
    }
   ],
   "source": [
    "print('Dataframe shape after filtering payment type: ', df.shape[0])"
   ]
  },
  {
   "cell_type": "code",
   "execution_count": null,
   "id": "f7bb35f4",
   "metadata": {},
   "outputs": [],
   "source": []
  },
  {
   "cell_type": "markdown",
   "id": "cae77354",
   "metadata": {},
   "source": [
    "### Latitudes and Longitudes"
   ]
  },
  {
   "cell_type": "code",
   "execution_count": 11,
   "id": "958744e8",
   "metadata": {},
   "outputs": [
    {
     "data": {
      "application/vnd.jupyter.widget-view+json": {
       "model_id": "9e0073aebc2a4a41855e56591870408c",
       "version_major": 2,
       "version_minor": 0
      },
      "text/plain": [
       "Heatmap(children=[ToolsToolbar(interact_value=None, supports_normalize=False, template='<template>\\n  <v-toolb…"
      ]
     },
     "metadata": {},
     "output_type": "display_data"
    }
   ],
   "source": [
    "# await vaex.jupyter.gather()\n",
    "df.widget.heatmap(df.pickup_longitude, df.pickup_latitude, limits = 'minmax', f = 'log1p', colormap = 'plasma', selection=[None, 'rectangle'])"
   ]
  },
  {
   "cell_type": "code",
   "execution_count": 12,
   "id": "2908fd86",
   "metadata": {},
   "outputs": [],
   "source": [
    "# using the heatmap's interactive boundaries, identify the majority of pickup latitudes and longitdues\n",
    "# new york city lies firmly within these following boundaries\n",
    "long_min = -74.05\n",
    "long_max = -73.75\n",
    "lat_min = 40.58\n",
    "lat_max = 40.90\n",
    "\n",
    "# Make a selection based on the boundaries\n",
    "df = df[\n",
    "    (df.pickup_longitude > long_min) & (df.pickup_longitude < long_max) & (df.pickup_latitude > lat_min) & (df.pickup_latitude < lat_max) & (df.dropoff_longitude > long_min) & (df.dropoff_longitude < long_max) & (df.dropoff_latitude > lat_min) & (df.dropoff_latitude < lat_max)\n",
    "]"
   ]
  },
  {
   "cell_type": "code",
   "execution_count": 13,
   "id": "5be06758",
   "metadata": {},
   "outputs": [
    {
     "name": "stdout",
     "output_type": "stream",
     "text": [
      "Dataframe shape after filtering location:  164106444\n"
     ]
    }
   ],
   "source": [
    "print('Dataframe shape after filtering location: ', df.shape[0])"
   ]
  },
  {
   "cell_type": "code",
   "execution_count": null,
   "id": "3353df6d",
   "metadata": {},
   "outputs": [],
   "source": []
  },
  {
   "cell_type": "markdown",
   "id": "a87b69eb",
   "metadata": {},
   "source": [
    "### Passenger Count"
   ]
  },
  {
   "cell_type": "code",
   "execution_count": 14,
   "id": "82013010",
   "metadata": {},
   "outputs": [
    {
     "name": "stdout",
     "output_type": "stream",
     "text": [
      "vaex [########################################] 100.00% elapsed time  :     1.86s =  0.0m =  0.0h\n",
      " "
     ]
    },
    {
     "data": {
      "image/png": "[encoded data removed]",
      "text/plain": [
       "<Figure size 1152x288 with 1 Axes>"
      ]
     },
     "metadata": {
      "needs_background": "light"
     },
     "output_type": "display_data"
    }
   ],
   "source": [
    "passengers_count = df.passenger_count.value_counts(progress=True)\n",
    "\n",
    "# Plot the result\n",
    "plt.figure(figsize=(16, 4))\n",
    "sns.barplot(x=passengers_count.index, y=np.log10(passengers_count.values))\n",
    "plt.xlabel('Number of passengers')\n",
    "plt.ylabel('Number of trips [dex]')\n",
    "plt.xticks(rotation='45')\n",
    "plt.show()"
   ]
  },
  {
   "cell_type": "code",
   "execution_count": 15,
   "id": "01b1f267",
   "metadata": {},
   "outputs": [],
   "source": [
    "# as we can there are few trips with 0 passenger count which we will ignore\n",
    "# typical passenger count is 1-6, and we will consider only those\n",
    "# 7 or more is probably erratic wrong data, so remove them\n",
    "df = df[(df.passenger_count>0) & (df.passenger_count<7)]"
   ]
  },
  {
   "cell_type": "code",
   "execution_count": 16,
   "id": "c4fbb003",
   "metadata": {},
   "outputs": [
    {
     "name": "stdout",
     "output_type": "stream",
     "text": [
      "vaex [########################################] 100.00% elapsed time  :    36.43s =  0.6m =  0.0h  \n",
      " "
     ]
    },
    {
     "data": {
      "image/png": "[encoded data removed]",
      "text/plain": [
       "<Figure size 1152x288 with 1 Axes>"
      ]
     },
     "metadata": {
      "needs_background": "light"
     },
     "output_type": "display_data"
    }
   ],
   "source": [
    "passengers_count = df.passenger_count.value_counts(progress=True)\n",
    "\n",
    "# Plot the result\n",
    "plt.figure(figsize=(16, 4))\n",
    "sns.barplot(x=passengers_count.index, y=np.log10(passengers_count.values))\n",
    "plt.xlabel('Number of passengers')\n",
    "plt.ylabel('Number of trips [dex]')\n",
    "plt.xticks(rotation='45')\n",
    "plt.show()"
   ]
  },
  {
   "cell_type": "code",
   "execution_count": 17,
   "id": "8a54e325",
   "metadata": {},
   "outputs": [
    {
     "name": "stdout",
     "output_type": "stream",
     "text": [
      "Dataframe shape after filtering passengers count:  164072716\n"
     ]
    }
   ],
   "source": [
    "print('Dataframe shape after filtering passengers count: ', df.shape[0])"
   ]
  },
  {
   "cell_type": "code",
   "execution_count": null,
   "id": "d36f37d4",
   "metadata": {},
   "outputs": [],
   "source": []
  },
  {
   "cell_type": "code",
   "execution_count": null,
   "id": "ec07f5eb",
   "metadata": {},
   "outputs": [],
   "source": []
  },
  {
   "cell_type": "code",
   "execution_count": null,
   "id": "3c81b678",
   "metadata": {},
   "outputs": [],
   "source": []
  },
  {
   "cell_type": "markdown",
   "id": "28f35f0c",
   "metadata": {},
   "source": [
    "### Trip Distance"
   ]
  },
  {
   "cell_type": "code",
   "execution_count": 18,
   "id": "01cbfbb3",
   "metadata": {},
   "outputs": [
    {
     "name": "stdout",
     "output_type": "stream",
     "text": [
      "count [########################################] 100.00% elapsed time  :     0.00s =  0.0m =  0.0h\n",
      "count [########################################] 100.00% elapsed time  :     1.70s =  0.0m =  0.0h\n",
      " "
     ]
    },
    {
     "data": {
      "image/png": "[encoded data removed]",
      "text/plain": [
       "<Figure size 576x288 with 1 Axes>"
      ]
     },
     "metadata": {
      "needs_background": "light"
     },
     "output_type": "display_data"
    }
   ],
   "source": [
    "# max trip distance is of the order of 10^7 which is ridiculous\n",
    "# min trip distance is negative, which is also erroneous\n",
    "# the longest stright line path in nyc is from Bronx to Staten Island roughly ~ 40 miles\n",
    "# let us see a plot of distibution of rides with trip distances upto 200 miles\n",
    "\n",
    "plt.figure(figsize=(8, 4))\n",
    "df.plot1d('trip_distance', limits=[0, 250], f='log10', shape=128, lw=3, progress=True)\n",
    "plt.xlabel('Trip distance [miles]')\n",
    "plt.ylabel('Number of trips [dex]')\n",
    "plt.show()"
   ]
  },
  {
   "cell_type": "code",
   "execution_count": 19,
   "id": "cd6cc703",
   "metadata": {},
   "outputs": [],
   "source": [
    "# we notice that at 100 miles distance, the graph starts to drop erratically\n",
    "# the data after 100 miles is very sporadic, hence we cut off the data till 100 miles (non-zero) trip distance\n",
    "\n",
    "df = df[(df.trip_distance > 0) & (df.trip_distance <= 100)]"
   ]
  },
  {
   "cell_type": "code",
   "execution_count": 20,
   "id": "bf4ecc36",
   "metadata": {},
   "outputs": [
    {
     "name": "stdout",
     "output_type": "stream",
     "text": [
      "Dataframe shape after filtering trip distances:  163357401\n"
     ]
    }
   ],
   "source": [
    "print('Dataframe shape after filtering trip distances: ', df.shape[0])"
   ]
  },
  {
   "cell_type": "code",
   "execution_count": 21,
   "id": "45e2964a",
   "metadata": {},
   "outputs": [
    {
     "name": "stdout",
     "output_type": "stream",
     "text": [
      "count [########################################] 100.00% elapsed time  :     0.00s =  0.0m =  0.0h\n",
      "count [########################################] 100.00% elapsed time  :     0.44s =  0.0m =  0.0h\n",
      " "
     ]
    },
    {
     "data": {
      "image/png": "[encoded data removed]",
      "text/plain": [
       "<Figure size 576x288 with 1 Axes>"
      ]
     },
     "metadata": {
      "needs_background": "light"
     },
     "output_type": "display_data"
    }
   ],
   "source": [
    "# distribution after filtering\n",
    "plt.figure(figsize=(8, 4))\n",
    "df.plot1d('trip_distance', limits=[0, 250], f='log10', shape=128, lw=3, progress=True)\n",
    "plt.xlabel('Trip distance [miles]')\n",
    "plt.ylabel('Number of trips [dex]')\n",
    "plt.show()"
   ]
  },
  {
   "cell_type": "code",
   "execution_count": null,
   "id": "91c43540",
   "metadata": {},
   "outputs": [],
   "source": []
  },
  {
   "cell_type": "markdown",
   "id": "6c5c2b33",
   "metadata": {},
   "source": [
    "### Trip Duration"
   ]
  },
  {
   "cell_type": "code",
   "execution_count": 22,
   "id": "3ec62bb0",
   "metadata": {},
   "outputs": [],
   "source": [
    "# convert the pickup and dropoff timestamps from strings to datetime objects\n",
    "df['pickup_datetime'] = df.pickup_datetime.astype('datetime64')\n",
    "df['dropoff_datetime'] = df.dropoff_datetime.astype('datetime64')\n"
   ]
  },
  {
   "cell_type": "code",
   "execution_count": 23,
   "id": "10b84080",
   "metadata": {},
   "outputs": [],
   "source": [
    "# calculate trip duration using difference between pickup and dropoff timestamps\n",
    "df['trip_duration_min'] = (df.dropoff_datetime - df.pickup_datetime)/np.timedelta64(1, 'm')\n"
   ]
  },
  {
   "cell_type": "code",
   "execution_count": 24,
   "id": "055d2fc3",
   "metadata": {},
   "outputs": [
    {
     "name": "stdout",
     "output_type": "stream",
     "text": [
      "count [########################################] 100.00% elapsed time  :     0.00s =  0.0m =  0.0h\n",
      "count [########################################] 100.00% elapsed time  :    49.30s =  0.8m =  0.0h\n",
      " "
     ]
    },
    {
     "data": {
      "image/png": "[encoded data removed]",
      "text/plain": [
       "<Figure size 576x288 with 1 Axes>"
      ]
     },
     "metadata": {
      "needs_background": "light"
     },
     "output_type": "display_data"
    }
   ],
   "source": [
    "# let us check the distribution of trip durations in nyc\n",
    "# a taxi ride doesn't last for 10 hours, but for the sake of filtering analysis, \n",
    "# let us plot the distribution for durations of 0 to 600 mins\n",
    "\n",
    "df = df[(df.trip_duration_min > 0) & (df.trip_duration_min < 180)]\n",
    "plt.figure(figsize=(8, 4))\n",
    "df.plot1d('trip_duration_min', limits=[0, 600], f='log10', shape=64, lw=3, progress=True)\n",
    "plt.xlabel('Trip duration [minutes]')\n",
    "plt.ylabel('Number of trips [dex]')\n",
    "plt.show()"
   ]
  },
  {
   "cell_type": "code",
   "execution_count": 25,
   "id": "1b44c522",
   "metadata": {},
   "outputs": [],
   "source": [
    "# the curve almost flattens out after about 3-4 hours duration\n",
    "# the time duration of 3 hours is an assumption of longest distance with most traffic\n",
    "# let us set the cap of duration as 3 hours = 180 mins\n",
    "\n",
    "df = df[(df.trip_duration_min > 0) & (df.trip_duration_min < 180)]"
   ]
  },
  {
   "cell_type": "code",
   "execution_count": 26,
   "id": "91c4b62c",
   "metadata": {},
   "outputs": [
    {
     "name": "stdout",
     "output_type": "stream",
     "text": [
      "Dataframe shape after filtering trip durations:  163221592\n"
     ]
    }
   ],
   "source": [
    "print('Dataframe shape after filtering trip durations: ', df.shape[0])"
   ]
  },
  {
   "cell_type": "code",
   "execution_count": null,
   "id": "013e298d",
   "metadata": {},
   "outputs": [],
   "source": []
  },
  {
   "cell_type": "markdown",
   "id": "27beed6b",
   "metadata": {},
   "source": [
    "### Trip Speeds"
   ]
  },
  {
   "cell_type": "code",
   "execution_count": 28,
   "id": "d3bec2e1",
   "metadata": {},
   "outputs": [],
   "source": [
    "# let's calculate the trip speed using distance in miles divided by time in hours\n",
    "df['trip_speed_mph'] = df.trip_distance / ((df.dropoff_datetime - df.pickup_datetime) / np.timedelta64(1, 'h'))\n"
   ]
  },
  {
   "cell_type": "code",
   "execution_count": 29,
   "id": "e8d4c17b",
   "metadata": {},
   "outputs": [
    {
     "name": "stdout",
     "output_type": "stream",
     "text": [
      "count [########################################] 100.00% elapsed time  :     0.00s =  0.0m =  0.0h\n",
      "count [########################################] 100.00% elapsed time  :    13.49s =  0.2m =  0.0h\n",
      " "
     ]
    },
    {
     "data": {
      "image/png": "[encoded data removed]",
      "text/plain": [
       "<Figure size 576x288 with 1 Axes>"
      ]
     },
     "metadata": {
      "needs_background": "light"
     },
     "output_type": "display_data"
    }
   ],
   "source": [
    "# let us take a look at the speeds for taxi rides in nyc\n",
    "# i can't imagine being able to drive at 120 miles per hour in nyc, but just an upper bound for our visualization\n",
    "\n",
    "plt.figure(figsize=(8, 4))\n",
    "df.plot1d('trip_speed_mph', limits=[0, 120], f='log10', shape=64, lw=3, progress=True)\n",
    "plt.xlabel('Mean speed during a trip [miles/hour]')\n",
    "plt.ylabel('Number of trips [dex]')\n",
    "plt.show()"
   ]
  },
  {
   "cell_type": "code",
   "execution_count": 30,
   "id": "beec33a2",
   "metadata": {},
   "outputs": [],
   "source": [
    "# choose the sensible trip speeds of upto 60 mph\n",
    "df = df[(df.trip_speed_mph > 0) & (df.trip_speed_mph <= 60)]\n"
   ]
  },
  {
   "cell_type": "code",
   "execution_count": 31,
   "id": "b3de4521",
   "metadata": {},
   "outputs": [
    {
     "name": "stdout",
     "output_type": "stream",
     "text": [
      "Dataframe shape after filtering average trip speeds:  163185107\n"
     ]
    }
   ],
   "source": [
    "print('Dataframe shape after filtering average trip speeds: ', df.shape[0])"
   ]
  },
  {
   "cell_type": "code",
   "execution_count": null,
   "id": "1f762ee7",
   "metadata": {},
   "outputs": [],
   "source": []
  },
  {
   "cell_type": "code",
   "execution_count": null,
   "id": "a300b95c",
   "metadata": {},
   "outputs": [],
   "source": []
  },
  {
   "cell_type": "code",
   "execution_count": null,
   "id": "6d8b0aba",
   "metadata": {},
   "outputs": [],
   "source": []
  },
  {
   "cell_type": "markdown",
   "id": "7b2e1207",
   "metadata": {},
   "source": [
    "### Amounts"
   ]
  },
  {
   "cell_type": "code",
   "execution_count": 32,
   "id": "2032a08d",
   "metadata": {},
   "outputs": [
    {
     "name": "stdout",
     "output_type": "stream",
     "text": [
      "count [########################################] 100.00% elapsed time  :     0.00s =  0.0m =  0.0h\n",
      "count [########################################] 100.00% elapsed time  :     1.74s =  0.0m =  0.0h\n",
      "count [########################################] 100.00% elapsed time  :     0.00s =  0.0m =  0.0h\n",
      "count [########################################] 100.00% elapsed time  :     1.76s =  0.0m =  0.0h\n",
      "count [########################################] 100.00% elapsed time  :     0.00s =  0.0m =  0.0h\n",
      "count [########################################] 100.00% elapsed time  :     1.75s =  0.0m =  0.0h\n",
      " "
     ]
    },
    {
     "data": {
      "image/png": "[encoded data removed]",
      "text/plain": [
       "<Figure size 1296x360 with 3 Axes>"
      ]
     },
     "metadata": {
      "needs_background": "light"
     },
     "output_type": "display_data"
    }
   ],
   "source": [
    "# let us draw plots of taxi fare, tip amount and total fare\n",
    "\n",
    "plt.figure(figsize=(18, 5))\n",
    "\n",
    "plt.subplot(131)\n",
    "df.plot1d('fare_amount', shape=64, lw=3, limits=[0, 1000], f='log10', progress=True)\n",
    "plt.xlabel('Fare amount [$]')\n",
    "plt.ylabel('Number of trips [dex]')\n",
    "plt.tick_params(labelsize=14)\n",
    "\n",
    "plt.subplot(132)\n",
    "df.plot1d('tip_amount', shape=64, lw=3, limits=[0, 1000], f='log10', progress=True)\n",
    "plt.xlabel('Tip amount [$]')\n",
    "plt.ylabel('')\n",
    "plt.tick_params(labelsize=14)\n",
    "\n",
    "plt.subplot(133)\n",
    "df.plot1d('total_amount', shape=64, lw=3, limits=[0, 1000], f='log10', progress=True)\n",
    "plt.xlabel('Total amount [$]')\n",
    "plt.ylabel('')\n",
    "plt.tick_params(labelsize=14)\n",
    "\n",
    "plt.tight_layout()\n",
    "plt.show()"
   ]
  },
  {
   "cell_type": "code",
   "execution_count": 33,
   "id": "26fe3e03",
   "metadata": {},
   "outputs": [],
   "source": [
    "# both fare amounts and total amounts graphs become erroneous after about 250$\n",
    "# the tip graph has sharp plummet at around 150$\n",
    "# filter the data to include these fares only\n",
    "\n",
    "df = df[\n",
    "    (\n",
    "        (df.total_amount > 0) & \n",
    "        (df.total_amount <= 250) & \n",
    "        (df.fare_amount > 0) & \n",
    "        (df.fare_amount <= 250) & \n",
    "        (df.tip_amount >= 0) & \n",
    "        (df.tip_amount <= 150)\n",
    "    )\n",
    "]"
   ]
  },
  {
   "cell_type": "code",
   "execution_count": 34,
   "id": "10c87da5",
   "metadata": {},
   "outputs": [
    {
     "name": "stdout",
     "output_type": "stream",
     "text": [
      "Dataframe shape after filtering fares:  163170056\n"
     ]
    }
   ],
   "source": [
    "print('Dataframe shape after filtering fares: ', df.shape[0])"
   ]
  },
  {
   "cell_type": "code",
   "execution_count": null,
   "id": "b4fdbab9",
   "metadata": {},
   "outputs": [],
   "source": []
  },
  {
   "cell_type": "code",
   "execution_count": null,
   "id": "897227f0",
   "metadata": {},
   "outputs": [],
   "source": []
  },
  {
   "cell_type": "code",
   "execution_count": 35,
   "id": "6e3c0ada",
   "metadata": {},
   "outputs": [
    {
     "name": "stdout",
     "output_type": "stream",
     "text": [
      "Number of trips in the filtered dataset: 163170056\n"
     ]
    }
   ],
   "source": [
    "N_samples = len(df)\n",
    "print(f'Number of trips in the filtered dataset: {N_samples}')"
   ]
  },
  {
   "cell_type": "code",
   "execution_count": null,
   "id": "dfec9a61",
   "metadata": {},
   "outputs": [],
   "source": []
  },
  {
   "cell_type": "code",
   "execution_count": 36,
   "id": "c4428f22",
   "metadata": {},
   "outputs": [
    {
     "name": "stdout",
     "output_type": "stream",
     "text": [
      "export(hdf5) [########################################] 100.00% elapsed time  :   228.85s =  3.8m =  0.1h                                                                                                                                                                                                                                                                                                                                                                                                                                                                                                                                                                      \n",
      " "
     ]
    }
   ],
   "source": [
    "df.export_hdf5('yellow_tripdata_2010_filtered.hdf5', progress=True)"
   ]
  },
  {
   "cell_type": "code",
   "execution_count": null,
   "id": "fdb47d33",
   "metadata": {},
   "outputs": [],
   "source": []
  }
 ],
 "metadata": {
  "kernelspec": {
   "display_name": "Python 3 (ipykernel)",
   "language": "python",
   "name": "python3"
  },
  "language_info": {
   "codemirror_mode": {
    "name": "ipython",
    "version": 3
   },
   "file_extension": ".py",
   "mimetype": "text/x-python",
   "name": "python",
   "nbconvert_exporter": "python",
   "pygments_lexer": "ipython3",
   "version": "3.9.12"
  }
 },
 "nbformat": 4,
 "nbformat_minor": 5
}
